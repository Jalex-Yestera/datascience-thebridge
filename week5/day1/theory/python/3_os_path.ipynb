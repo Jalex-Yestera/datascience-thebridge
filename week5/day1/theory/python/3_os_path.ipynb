{
 "cells": [
  {
   "cell_type": "markdown",
   "metadata": {},
   "source": [
    "### sys.path, ____file____, getcwd(), dirname()"
   ]
  },
  {
   "cell_type": "code",
   "execution_count": 2,
   "metadata": {},
   "outputs": [],
   "source": [
    "from my_module import suma"
   ]
  },
  {
   "cell_type": "code",
   "execution_count": 1,
   "metadata": {
    "tags": []
   },
   "outputs": [
    {
     "output_type": "stream",
     "name": "stdout",
     "text": "os.getcwd():\nc:\\Users\\yeste\\Documents\\datascience-thebridge\\datascience-thebridge\\week5\\day1\\theory\\python\n\nos.path.dirname(os.getcwd()):\nc:\\Users\\yeste\\Documents\\datascience-thebridge\\datascience-thebridge\\week5\\day1\\theory\n\nIterations:\n\nc:\\Users\\yeste\\Documents\\datascience-thebridge\\datascience-thebridge\\week5\\day1\\theory\nc:\\Users\\yeste\\Documents\\datascience-thebridge\\datascience-thebridge\\week5\\day1\nc:\\Users\\yeste\\Documents\\datascience-thebridge\\datascience-thebridge\\week5\nc:\\Users\\yeste\\Documents\\datascience-thebridge\\datascience-thebridge\nsys.path:\n\nc:\\Users\\yeste\\Documents\\datascience-thebridge\\datascience-thebridge\\week5\\day1\\theory\\python\nC:\\Users\\yeste\\AppData\\Local\\Programs\\Microsoft VS Code\nc:\\Users\\yeste\\.vscode\\extensions\\ms-python.python-2020.6.91350\\pythonFiles\nc:\\Users\\yeste\\.vscode\\extensions\\ms-python.python-2020.6.91350\\pythonFiles\\lib\\python\nC:\\Users\\yeste\\AppData\\Local\\Programs\\Python\\Python38\\python38.zip\nC:\\Users\\yeste\\AppData\\Local\\Programs\\Python\\Python38\\DLLs\nC:\\Users\\yeste\\AppData\\Local\\Programs\\Python\\Python38\\lib\nC:\\Users\\yeste\\AppData\\Local\\Programs\\Python\\Python38\n\nC:\\Users\\yeste\\AppData\\Local\\Programs\\Python\\Python38\\lib\\site-packages\nC:\\Users\\yeste\\AppData\\Local\\Programs\\Python\\Python38\\lib\\site-packages\\win32\nC:\\Users\\yeste\\AppData\\Local\\Programs\\Python\\Python38\\lib\\site-packages\\win32\\lib\nC:\\Users\\yeste\\AppData\\Local\\Programs\\Python\\Python38\\lib\\site-packages\\Pythonwin\nC:\\Users\\yeste\\AppData\\Local\\Programs\\Python\\Python38\\lib\\site-packages\\IPython\\extensions\nC:\\Users\\yeste\\.ipython\n"
    }
   ],
   "source": [
    "import sys, os\n",
    "\n",
    "if __name__ == \"__main__\":\n",
    "\n",
    "    print(\"os.getcwd():\")\n",
    "    print(os.getcwd())\n",
    "    print(\"\")\n",
    "    print(\"os.path.dirname(os.getcwd()):\")\n",
    "    print(os.path.dirname(os.getcwd()))\n",
    "    print(\"\")\n",
    "    print(\"Iterations:\")\n",
    "    print(\"\")\n",
    "    current_path = os.getcwd()\n",
    "    for iterations in range(4):\n",
    "        current_path = os.path.dirname(current_path)\n",
    "        print(current_path)\n",
    "        \n",
    "    print(\"sys.path:\")\n",
    "    print(\"\")\n",
    "    for x in sys.path:\n",
    "        print(x)"
   ]
  },
  {
   "cell_type": "markdown",
   "metadata": {},
   "source": [
    "### NOTE: This is not a good practice. You have to detect your root folder and then add it to sys.path."
   ]
  },
  {
   "cell_type": "code",
   "execution_count": 4,
   "metadata": {},
   "outputs": [],
   "source": [
    "def __get_root_project(number_of_descent): \n",
    "    # For .py files\n",
    "    #__file = __file__ \n",
    "    # For .ipynb files\n",
    "    __file = os.getcwd()\n",
    "    for _ in range(number_of_descent):\n",
    "        __file = os.path.dirname(__file)\n",
    "        sys.path.append(__file)\n",
    "    sys.path = list(set(sys.path))\n",
    "\n",
    "__get_root_project(number_of_descent=4)"
   ]
  },
  {
   "cell_type": "code",
   "execution_count": 5,
   "metadata": {},
   "outputs": [
    {
     "output_type": "execute_result",
     "data": {
      "text/plain": "13"
     },
     "metadata": {},
     "execution_count": 5
    }
   ],
   "source": [
    "from week5.day1.theory.python.my_module import suma\n",
    "\n",
    "suma(9, 4)"
   ]
  },
  {
   "cell_type": "code",
   "execution_count": null,
   "metadata": {},
   "outputs": [],
   "source": []
  }
 ],
 "metadata": {
  "language_info": {
   "codemirror_mode": {
    "name": "ipython",
    "version": 3
   },
   "file_extension": ".py",
   "mimetype": "text/x-python",
   "name": "python",
   "nbconvert_exporter": "python",
   "pygments_lexer": "ipython3",
   "version": "3.6.4-final"
  },
  "orig_nbformat": 2,
  "kernelspec": {
   "name": "python_defaultSpec_1594626523275",
   "display_name": "Python 3.8.3 64-bit"
  }
 },
 "nbformat": 4,
 "nbformat_minor": 2
}