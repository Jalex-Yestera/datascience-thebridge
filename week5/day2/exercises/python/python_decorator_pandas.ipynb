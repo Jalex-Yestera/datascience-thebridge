{
 "cells": [
  {
   "cell_type": "markdown",
   "metadata": {},
   "source": [
    "## Delivery:"
   ]
  },
  {
   "cell_type": "markdown",
   "metadata": {},
   "source": [
    "Create, in your library/module, a protected function called 'f_protected' that creates a lambda function. The lambda function must receive a param 'x' and return a boolean True if 'x' is higher than 5.  Also, 'f_protected' must create a list ('l1') with 'list comprehesion' that generates a list from 0 to 15. Finally, 'f_protected' must return 'l1' filtered (with function 'filter') using the lambda function.\n",
    "\n",
    "After that, create a decorator called \"prepost\". The decorator must receive an *args and a **kwargs argument. \n",
    "\n",
    "If in 'kwargs' there is a key called \"url\", then it must do the next:\n",
    "\n",
    "    1. Open with pandas the url as 'csv'. The variable is called 'df'.\n",
    "    2. Do what '_f_protected' does (the function wrapped with the decorator). Simply, call the function.\n",
    "    3. Plot histograms of each column in 'df'.\n",
    "\n",
    "----------\n",
    "\n",
    "The url is:\n",
    "\n",
    "http://winterolympicsmedals.com/medals.csv\n",
    "\n",
    "Finally, use the decorator as follow and call the function:"
   ]
  },
  {
   "cell_type": "code",
   "execution_count": 1,
   "metadata": {},
   "outputs": [],
   "source": [
    "import pandas as pd\n",
    "import numpy as np\n"
   ]
  },
  {
   "cell_type": "code",
   "execution_count": 2,
   "metadata": {},
   "outputs": [
    {
     "output_type": "execute_result",
     "data": {
      "text/plain": "      Year      City       Sport      Discipline  NOC            Event  \\\n0     1924  Chamonix     Skating  Figure skating  AUT       individual   \n1     1924  Chamonix     Skating  Figure skating  AUT       individual   \n2     1924  Chamonix     Skating  Figure skating  AUT            pairs   \n3     1924  Chamonix   Bobsleigh       Bobsleigh  BEL         four-man   \n4     1924  Chamonix  Ice Hockey      Ice Hockey  CAN       ice hockey   \n...    ...       ...         ...             ...  ...              ...   \n2306  2006     Turin      Skiing       Snowboard  USA        Half-pipe   \n2307  2006     Turin      Skiing       Snowboard  USA        Half-pipe   \n2308  2006     Turin      Skiing       Snowboard  USA        Half-pipe   \n2309  2006     Turin      Skiing       Snowboard  USA  Snowboard Cross   \n2310  2006     Turin      Skiing       Snowboard  USA  Snowboard Cross   \n\n     Event gender   Medal  \n0               M  Silver  \n1               W    Gold  \n2               X    Gold  \n3               M  Bronze  \n4               M    Gold  \n...           ...     ...  \n2306            M  Silver  \n2307            W    Gold  \n2308            W  Silver  \n2309            M    Gold  \n2310            W  Silver  \n\n[2311 rows x 8 columns]",
      "text/html": "<div>\n<style scoped>\n    .dataframe tbody tr th:only-of-type {\n        vertical-align: middle;\n    }\n\n    .dataframe tbody tr th {\n        vertical-align: top;\n    }\n\n    .dataframe thead th {\n        text-align: right;\n    }\n</style>\n<table border=\"1\" class=\"dataframe\">\n  <thead>\n    <tr style=\"text-align: right;\">\n      <th></th>\n      <th>Year</th>\n      <th>City</th>\n      <th>Sport</th>\n      <th>Discipline</th>\n      <th>NOC</th>\n      <th>Event</th>\n      <th>Event gender</th>\n      <th>Medal</th>\n    </tr>\n  </thead>\n  <tbody>\n    <tr>\n      <th>0</th>\n      <td>1924</td>\n      <td>Chamonix</td>\n      <td>Skating</td>\n      <td>Figure skating</td>\n      <td>AUT</td>\n      <td>individual</td>\n      <td>M</td>\n      <td>Silver</td>\n    </tr>\n    <tr>\n      <th>1</th>\n      <td>1924</td>\n      <td>Chamonix</td>\n      <td>Skating</td>\n      <td>Figure skating</td>\n      <td>AUT</td>\n      <td>individual</td>\n      <td>W</td>\n      <td>Gold</td>\n    </tr>\n    <tr>\n      <th>2</th>\n      <td>1924</td>\n      <td>Chamonix</td>\n      <td>Skating</td>\n      <td>Figure skating</td>\n      <td>AUT</td>\n      <td>pairs</td>\n      <td>X</td>\n      <td>Gold</td>\n    </tr>\n    <tr>\n      <th>3</th>\n      <td>1924</td>\n      <td>Chamonix</td>\n      <td>Bobsleigh</td>\n      <td>Bobsleigh</td>\n      <td>BEL</td>\n      <td>four-man</td>\n      <td>M</td>\n      <td>Bronze</td>\n    </tr>\n    <tr>\n      <th>4</th>\n      <td>1924</td>\n      <td>Chamonix</td>\n      <td>Ice Hockey</td>\n      <td>Ice Hockey</td>\n      <td>CAN</td>\n      <td>ice hockey</td>\n      <td>M</td>\n      <td>Gold</td>\n    </tr>\n    <tr>\n      <th>...</th>\n      <td>...</td>\n      <td>...</td>\n      <td>...</td>\n      <td>...</td>\n      <td>...</td>\n      <td>...</td>\n      <td>...</td>\n      <td>...</td>\n    </tr>\n    <tr>\n      <th>2306</th>\n      <td>2006</td>\n      <td>Turin</td>\n      <td>Skiing</td>\n      <td>Snowboard</td>\n      <td>USA</td>\n      <td>Half-pipe</td>\n      <td>M</td>\n      <td>Silver</td>\n    </tr>\n    <tr>\n      <th>2307</th>\n      <td>2006</td>\n      <td>Turin</td>\n      <td>Skiing</td>\n      <td>Snowboard</td>\n      <td>USA</td>\n      <td>Half-pipe</td>\n      <td>W</td>\n      <td>Gold</td>\n    </tr>\n    <tr>\n      <th>2308</th>\n      <td>2006</td>\n      <td>Turin</td>\n      <td>Skiing</td>\n      <td>Snowboard</td>\n      <td>USA</td>\n      <td>Half-pipe</td>\n      <td>W</td>\n      <td>Silver</td>\n    </tr>\n    <tr>\n      <th>2309</th>\n      <td>2006</td>\n      <td>Turin</td>\n      <td>Skiing</td>\n      <td>Snowboard</td>\n      <td>USA</td>\n      <td>Snowboard Cross</td>\n      <td>M</td>\n      <td>Gold</td>\n    </tr>\n    <tr>\n      <th>2310</th>\n      <td>2006</td>\n      <td>Turin</td>\n      <td>Skiing</td>\n      <td>Snowboard</td>\n      <td>USA</td>\n      <td>Snowboard Cross</td>\n      <td>W</td>\n      <td>Silver</td>\n    </tr>\n  </tbody>\n</table>\n<p>2311 rows × 8 columns</p>\n</div>"
     },
     "metadata": {},
     "execution_count": 2
    }
   ],
   "source": [
    "medals = pd.read_csv(\"http://winterolympicsmedals.com/medals.cs\")\n",
    "medals"
   ]
  },
  {
   "cell_type": "code",
   "execution_count": 1,
   "metadata": {
    "tags": []
   },
   "outputs": [
    {
     "output_type": "stream",
     "name": "stdout",
     "text": "\n"
    }
   ],
   "source": [
    "def prepost(*arg, **kwargs):\n",
    "    #your prepost decorator code...\n",
    "\n",
    "@prepost(url=key_url)   \n",
    "def _f_protected():\n",
    "    #your _f_protected_code...\n",
    "\n",
    "filter_ = _f_protected()"
   ]
  },
  {
   "cell_type": "code",
   "execution_count": null,
   "metadata": {},
   "outputs": [],
   "source": []
  }
 ],
 "metadata": {
  "language_info": {
   "name": "python",
   "codemirror_mode": {
    "name": "ipython",
    "version": 3
   },
   "version": "3.6.4-final"
  },
  "orig_nbformat": 2,
  "file_extension": ".py",
  "mimetype": "text/x-python",
  "name": "python",
  "npconvert_exporter": "python",
  "pygments_lexer": "ipython3",
  "version": 3,
  "kernelspec": {
   "name": "python_defaultSpec_1594715644370",
   "display_name": "Python 3.8.3 64-bit"
  }
 },
 "nbformat": 4,
 "nbformat_minor": 2
}