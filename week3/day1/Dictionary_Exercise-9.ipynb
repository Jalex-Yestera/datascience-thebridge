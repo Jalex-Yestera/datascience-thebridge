{
 "cells": [
  {
   "cell_type": "markdown",
   "metadata": {},
   "source": [
    "### 9. Ejercicios: \n",
    "\n",
    "- Crea dos listas: una que tenga 4 nombres de ciudades y otra que tenga 4 lugares emblemáticos de la ciudad. "
   ]
  },
  {
   "cell_type": "code",
   "execution_count": 1,
   "metadata": {},
   "outputs": [],
   "source": [
    "# Ciudades\n",
    "Lista_ciudades = [\"Madrid\", \"Venecia\", \"Amsterdam\", \"Berlin\", \"Paris\"]\n",
    "# lugares\n",
    "Lista_lugares = [\"El_Prado\", \"San_Marcos\", \"Vondelpark\", \"Wall\", \"T_Eiffel\"]"
   ]
  },
  {
   "cell_type": "markdown",
   "metadata": {},
   "source": [
    "### A partir de funciones con diccionarios:\n",
    "\n",
    "- Crea un diccionario con un entero 5 como key y \"val\" como su value. "
   ]
  },
  {
   "cell_type": "code",
   "execution_count": 2,
   "metadata": {},
   "outputs": [],
   "source": [
    "# Code\n",
    "Diccio1 = { 5 : \"val\"}"
   ]
  },
  {
   "cell_type": "markdown",
   "metadata": {},
   "source": [
    "- Crea una función que a reciba dos listas 'lista1' y 'lista2' por parámetro y retorne un diccionario teniendo como keys cada elemento de 'lista1' y como values los elementos de 'lista2'. Llama a la función con las listas que has creado antes para que devuelva un diccionario con cada ciudad como key asociado a un lugar emblemático como value. \n"
   ]
  },
  {
   "cell_type": "code",
   "execution_count": 3,
   "metadata": {
    "tags": []
   },
   "outputs": [
    {
     "output_type": "stream",
     "name": "stdout",
     "text": "{'Madrid': 'El_Prado', 'Venecia': 'San_Marcos', 'Amsterdam': 'Vondelpark', 'Berlin': 'Wall', 'Paris': 'T_Eiffel'}\n"
    }
   ],
   "source": [
    "# Code\n",
    "def Funcion_diccionario (k, v):\n",
    "    Diccio_city = dict(zip(k , v))\n",
    "    print (Diccio_city)\n",
    "Funcion_diccionario (k=Lista_ciudades, v=Lista_lugares)"
   ]
  },
  {
   "cell_type": "markdown",
   "metadata": {},
   "source": [
    "*Hay que utilizar la lista de alumn@s con sus nombres y alturas*\n",
    "\n",
    "- Crea una función que, a partir de dos listas, retorne un diccionario en el que cada key sea el nombre de un alumno y su value debe ser la altura."
   ]
  },
  {
   "cell_type": "code",
   "execution_count": 6,
   "metadata": {
    "tags": []
   },
   "outputs": [
    {
     "output_type": "stream",
     "name": "stdout",
     "text": "{'Jalex': 1.8, 'Tomas': 1.8, 'David': 1.81, 'Natalio': 1.73, 'Monica': 1.73, 'Roxanna': 1.75, 'Filipa': 1.64, 'Elsa': 1.89, 'Cristina': 1.7, 'Clara': 1.67, 'Alba': 1.68, 'Valeria': 1, 'Jose Luis': 1.69, 'Gabriel': 1.76, 'Rochi': 1.6, 'Jose Maria': 1.75}\n"
    }
   ],
   "source": [
    "# Code\n",
    "lista_doble = [[\"Jalex\", 1.80], [\"Tomas\", 1.80], [\"David\", 1.81], [\"Natalio\", 1.73], [\"Monica\", 1.73], [\"Roxanna\", 1.75], [\"Filipa\", 1.64], [\"Elsa\", 1.89], [\"Cristina\", 1.70], [\"Clara\", 1.67], [\"Alba\", 1.68], [\"Valeria\",1, 40, 1.60], [\"Jose Luis\", 1.69], [\"Gabriel\", 1.76], [\"Rochi\", 1.60], [\"Jose Maria\", 1.75]]\n",
    "alumnos = [x[0] for x in lista_doble]\n",
    "alturas = [x[1] for x in lista_doble]\n",
    "def Funcion_alumno_alt (k, v):\n",
    "    Diccio_alturas = dict(zip(k , v))\n",
    "    print (Diccio_alturas)\n",
    "Funcion_diccionario (k = alumnos, v = alturas)\n"
   ]
  },
  {
   "cell_type": "code",
   "execution_count": null,
   "metadata": {},
   "outputs": [],
   "source": []
  }
 ],
 "metadata": {
  "language_info": {
   "codemirror_mode": {
    "name": "ipython",
    "version": 3
   },
   "file_extension": ".py",
   "mimetype": "text/x-python",
   "name": "python",
   "nbconvert_exporter": "python",
   "pygments_lexer": "ipython3",
   "version": "3.8.3-final"
  },
  "orig_nbformat": 2,
  "kernelspec": {
   "name": "python38332bit7bd9c3dfbaae4ec28486f8bc70a36930",
   "display_name": "Python 3.8.3 32-bit"
  }
 },
 "nbformat": 4,
 "nbformat_minor": 2
}