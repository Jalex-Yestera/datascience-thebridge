{
 "cells": [
  {
   "cell_type": "markdown",
   "metadata": {},
   "source": [
    "# Ejercicio La Biblioteca | Precurso DSJUN20 | The Bridge"
   ]
  },
  {
   "cell_type": "markdown",
   "metadata": {},
   "source": [
    "![biblioteca](https://static2.abc.es/media/familia/2018/11/02/AdobeStock_210538561-kJTF--620x349@abc.jpg)"
   ]
  },
  {
   "cell_type": "markdown",
   "metadata": {},
   "source": [
    "Es tu primer día de trabajo en la Biblioteca de tu barrio y ya tienes tu primera tarea. Te acaban de pasar una lista con libros y la lista de unidades disponibles."
   ]
  },
  {
   "cell_type": "code",
   "execution_count": 1,
   "metadata": {},
   "outputs": [],
   "source": [
    "libros = [\"El mal de Corcira\", \"Un mundo feliz\", \"Lolita\", \"Crimen y castigo\", \"Python from for to pro\",\\\n",
    "          \"El señor de los anillos\", \"Cien años de soledad\", \"Harry Potter\", \"Lectura Fácil\", \"Seda\",\\\n",
    "          \"La chica de nieve\", \"El día que se perdió la cordura\", \"Data Science\"]"
   ]
  },
  {
   "cell_type": "code",
   "execution_count": 15,
   "metadata": {},
   "outputs": [],
   "source": [
    "biblioteca = [(\"El mal de Corcira\",4),(\"Un mundo feliz\", 2),(\"Lolita\", 5),\\\n",
    "              (\"Crimen y castigo\",2),(\"Python from for to pro\", 0),(\"El señor de los anillos\", 6),\\\n",
    "              (\"Cien años de soledad\", 5),(\"Harry Potter\", 9),(\"Lectura Fácil\", 4),(\"Seda\", 2),\\\n",
    "              (\"La chica de nieve\", 6),(\"El día que se perdió la cordura\", 3), (\"Data Science\", 0)]"
   ]
  },
  {
   "cell_type": "markdown",
   "metadata": {},
   "source": [
    "1. ¿Cuántos títulos diferentes tienen en esta biblioteca?"
   ]
  },
  {
   "cell_type": "code",
   "execution_count": 3,
   "metadata": {
    "tags": []
   },
   "outputs": [
    {
     "output_type": "stream",
     "name": "stdout",
     "text": "El número total de títulos en la biblioteca es: 13\n"
    }
   ],
   "source": [
    "# Biblioteca municipal *Jose Saramago*\n",
    "## Inventario de títulos:\n",
    "\n",
    "titulos = len(libros)\n",
    "print (\"El número total de títulos en la biblioteca es:\", titulos)\n",
    "\n"
   ]
  },
  {
   "cell_type": "markdown",
   "metadata": {},
   "source": [
    "2. ¿Cuántas letras componen la palabra *Seda*? "
   ]
  },
  {
   "cell_type": "code",
   "execution_count": 4,
   "metadata": {
    "tags": []
   },
   "outputs": [
    {
     "output_type": "stream",
     "name": "stdout",
     "text": "La palabra Seda contiene 4 letras\n"
    }
   ],
   "source": [
    "## Encontrar la palabra seda en la lista\n",
    "\n",
    "index = libros.index('Seda')\n",
    "\n",
    "## Contar los caracteres y mostrarlos\n",
    "\n",
    "\n",
    "print('La palabra Seda contiene', len(libros[index]) ,'letras')\n",
    "\n"
   ]
  },
  {
   "cell_type": "markdown",
   "metadata": {},
   "source": [
    "3. ¿Cuántas unidades hay del libro *Seda*?"
   ]
  },
  {
   "cell_type": "code",
   "execution_count": 5,
   "metadata": {
    "tags": []
   },
   "outputs": [
    {
     "output_type": "stream",
     "name": "stdout",
     "text": "En la biblioteca tenemos 2 ejemplares del título 'Seda'\n"
    }
   ],
   "source": [
    "## Imprimir el segundo valor de la tupla del libro _Seda_\n",
    "\n",
    "biblioteca = dict(biblioteca)\n",
    "print (\"En la biblioteca tenemos\", biblioteca[\"Seda\"], \"ejemplares del título 'Seda'\")\n",
    "biblioteca = list(biblioteca) \n"
   ]
  },
  {
   "cell_type": "markdown",
   "metadata": {},
   "source": [
    "4. Quien registraba los libros antes de ti dejo pendiente de añadir a la lista **libros** la variable **pendiente**, además debió confundir el famoso libro de George Orwell *1984*, con un número, asignándolo como un integer.\n",
    "¿Puedes cambiarlo y pasar a string este elemento y añadirlo a **libros**?"
   ]
  },
  {
   "cell_type": "code",
   "execution_count": 6,
   "metadata": {},
   "outputs": [
    {
     "output_type": "execute_result",
     "data": {
      "text/plain": "' pendiente = 1984 '"
     },
     "metadata": {},
     "execution_count": 6
    }
   ],
   "source": [
    "\"\"\" pendiente = 1984 \"\"\""
   ]
  },
  {
   "cell_type": "code",
   "execution_count": 7,
   "metadata": {
    "tags": []
   },
   "outputs": [
    {
     "output_type": "stream",
     "name": "stdout",
     "text": "El número total de títulos en la biblioteca es: 14\n"
    }
   ],
   "source": [
    "# Por esto dijo mi ex compañero _'Para lo que me queda en el convento'_\n",
    "libros.append(str(\"1984\"))\n",
    "\n",
    "# Compruebo que el numero total de titulos ha aumentado en uno\n",
    "titulos = len(libros)\n",
    "print (\"El número total de títulos en la biblioteca es:\", titulos)\n"
   ]
  },
  {
   "cell_type": "markdown",
   "metadata": {},
   "source": [
    "5. Te piden que añadas a esta lista el nuevo libro de Los Juegos del hambre que se titula *Balada de pájaros cantores y serpientes*. Has contado las unidades y han llegado 10. \n",
    "\n",
    "    a. Crea una variable con el título del libro, que se llame **libro_1**. Añade este elemento a la lista **libros**.\n",
    "\n",
    "    b. Crea una variable con el número de unidades, que se llame **uds_1**.\n",
    "\n",
    "    c. Crea una variable que sea una lista llamada **nuevo_libro** en el que su primer elemento sea **libro_1** y el segundo **uds_1**. \n",
    "\n",
    "    d. Convierte a **nuevo_libro** a tupla.\n",
    "    (muestra qué tipo es ahora esta variable)\n",
    "\n",
    "    e. Añade **nuevo_libro** a la lista **biblioteca** "
   ]
  },
  {
   "cell_type": "code",
   "execution_count": 16,
   "metadata": {
    "tags": []
   },
   "outputs": [
    {
     "output_type": "stream",
     "name": "stdout",
     "text": "[('El mal de Corcira', 4), ('Un mundo feliz', 2), ('Lolita', 5), ('Crimen y castigo', 2), ('Python from for to pro', 0), ('El señor de los anillos', 6), ('Cien años de soledad', 5), ('Harry Potter', 9), ('Lectura Fácil', 4), ('Seda', 2), ('La chica de nieve', 6), ('El día que se perdió la cordura', 3), ('Data Science', 0), ('Los juegos del hambre - Balada de pájaros cantores y serpientes', 10)]\n"
    }
   ],
   "source": [
    "# Añadiendo nuevo libro que hemos comprado en el mercadillo\n",
    "\n",
    "libro_1 = \"Los juegos del hambre - Balada de pájaros cantores y serpientes\"\n",
    "uds_1 = int (10)\n",
    "nuevo_libro = (libro_1 , uds_1)\n",
    "tuple (nuevo_libro)\n",
    "biblioteca.append (nuevo_libro)\n",
    "print (biblioteca)"
   ]
  },
  {
   "cell_type": "markdown",
   "metadata": {},
   "source": [
    "6. Acaban de traer una unidad más de *El mal de Corcira*, añade una unidad más al segundo elemento del primer elemento de la lista **biblioteca**."
   ]
  },
  {
   "cell_type": "code",
   "execution_count": 24,
   "metadata": {
    "tags": []
   },
   "outputs": [
    {
     "output_type": "stream",
     "name": "stdout",
     "text": "La biblioteca tiene ahora 4 ejemplares de 'El mal de Corcira'\n"
    }
   ],
   "source": [
    "# Transformar en lista la tupla para poder modificarla\n",
    "biblioteca[0] = list(biblioteca[0])\n",
    "\n",
    "# Creamos una nueva variable que sea integer con el segundo valor de la tupla\n",
    "amount = biblioteca[0][1]\n",
    "amount = int(amount)\n",
    "\n",
    "# Añadimos una unidad al segundo valor de la lista\n",
    "amount = amount + 1\n",
    "\n",
    "# volvemos a hacer tupla el elemento de la lista\n",
    "biblioteca[0] = tuple(biblioteca[0])\n",
    "\n",
    "# Rematamos la faena con una frase que confirma la operación con style\n",
    "print(\"La biblioteca tiene ahora\", biblioteca[0][1], \"ejemplares de 'El mal de Corcira'\")"
   ]
  },
  {
   "cell_type": "code",
   "execution_count": 75,
   "metadata": {},
   "outputs": [
    {
     "output_type": "error",
     "ename": "TypeError",
     "evalue": "'tuple' object does not support item assignment",
     "traceback": [
      "\u001b[1;31m---------------------------------------------------------------------------\u001b[0m",
      "\u001b[1;31mTypeError\u001b[0m                                 Traceback (most recent call last)",
      "\u001b[1;32m<ipython-input-75-8a7bcc0d7ddc>\u001b[0m in \u001b[0;36m<module>\u001b[1;34m\u001b[0m\n\u001b[1;32m----> 1\u001b[1;33m \u001b[0mbiblioteca\u001b[0m\u001b[1;33m[\u001b[0m\u001b[1;36m0\u001b[0m\u001b[1;33m]\u001b[0m\u001b[1;33m[\u001b[0m\u001b[1;36m1\u001b[0m\u001b[1;33m]\u001b[0m \u001b[1;33m=\u001b[0m \u001b[0mbiblioteca\u001b[0m\u001b[1;33m[\u001b[0m\u001b[1;36m0\u001b[0m\u001b[1;33m]\u001b[0m\u001b[1;33m[\u001b[0m\u001b[1;36m1\u001b[0m\u001b[1;33m]\u001b[0m \u001b[1;33m-\u001b[0m \u001b[1;36m1\u001b[0m\u001b[1;33m\u001b[0m\u001b[1;33m\u001b[0m\u001b[0m\n\u001b[0m",
      "\u001b[1;31mTypeError\u001b[0m: 'tuple' object does not support item assignment"
     ]
    }
   ],
   "source": [
    "biblioteca[0][1] = biblioteca[0][1] - 1"
   ]
  },
  {
   "cell_type": "markdown",
   "metadata": {
    "tags": []
   },
   "source": [
    "Busca en google este error y explica porqué no se puede añadir una unidad más. ¿Se te ocurre cómo podrías alterar este dato"
   ]
  },
  {
   "cell_type": "code",
   "execution_count": 11,
   "metadata": {},
   "outputs": [],
   "source": [
    "# *_Es lo que acabo de hacer en la celda 22._*\n",
    "# _NOTA_ *Preguntar por la numeración de las celdas y el orden de ejecución de las mismas.*\n",
    "## No se puede operar con dos elementos si uno es string y el otro es int\n",
    "## Los dos elementos de la tupla son string al principio y necesitamos operar con numeros.\n",
    "## Mi solución ha sido transformar en int el elemento necesario y operar después ignorando el primer elemento. Después he vuelto a transformar en tupla para fijar los cambios. "
   ]
  },
  {
   "cell_type": "markdown",
   "metadata": {},
   "source": [
    "Convierte la tupla en una lista para poder modificar el segundo elemento y añadir esta unidad. Asigna la tupla convertida a lista a la variable **tup_to_list** haz los cambios, agrega la unidad y vuelve a añadir la lista ya convertida en tupla a la lista **biblioteca**."
   ]
  },
  {
   "cell_type": "code",
   "execution_count": 33,
   "metadata": {
    "tags": []
   },
   "outputs": [
    {
     "output_type": "stream",
     "name": "stdout",
     "text": "[('El mal de Corcira', 4), ('Un mundo feliz', 2), ('Lolita', 5), ('Crimen y castigo', 2), ('Python from for to pro', 0), ('El señor de los anillos', 6), ('Cien años de soledad', 5), ('Harry Potter', 9), ('Lectura Fácil', 4), ('Seda', 2), ('La chica de nieve', 6), ('El día que se perdió la cordura', 3), ('Data Science', 0), ('Los juegos del hambre - Balada de pájaros cantores y serpientes', 10)]\n"
    }
   ],
   "source": [
    "# Convertir en list la tupla\n",
    "biblioteca[0] = list(biblioteca[0])\n",
    "\n",
    "# Asignar la variable tup_to_list\n",
    "tup_to_list = biblioteca[0][1]\n",
    "\n",
    "# Convertir en int el segundo valor de la lista tup_to_list\n",
    "tup_to_list = int(tup_to_list)\n",
    "\n",
    "# Añadir una unidad \n",
    "tup_to_list = tup_to_list + 1\n",
    "\n",
    "# Convertir en tupla el elemento\n",
    "biblioteca[0] = tuple(biblioteca[0])\n",
    "\n",
    "#Compruebo el estado de biblioteca\n",
    "print(biblioteca)"
   ]
  },
  {
   "cell_type": "markdown",
   "metadata": {},
   "source": [
    "Ahora, tenemos dos tuplas con el libro *El mal de Corcira*, pero esto no es lo que queremos. Elimina el primer elemento de la lista **biblioteca**.\n",
    "\n",
    "Hint: https://www.programiz.com/python-programming/methods/list/remove"
   ]
  },
  {
   "cell_type": "code",
   "execution_count": 13,
   "metadata": {},
   "outputs": [],
   "source": [
    "# no me ha pasado eso de tener tupla duplicada XD"
   ]
  },
  {
   "cell_type": "markdown",
   "metadata": {},
   "source": [
    "7. Te han pedido que localices los títulos de los libros de los que no disponen de unidades. Es decir, su segundo elemento, es igual a 0. "
   ]
  },
  {
   "cell_type": "code",
   "execution_count": 74,
   "metadata": {
    "tags": []
   },
   "outputs": [
    {
     "output_type": "stream",
     "name": "stdout",
     "text": "Libros que nos han mangado unos hackers y ahora no tenemos en la biblioteca:\nPython from for to pro\nData Science\n"
    }
   ],
   "source": [
    "# Creo un loop que recorra la lista buscando valores 0\n",
    "print(\"Libros que nos han mangado unos hackers y ahora no tenemos en la biblioteca:\")\n",
    "for missing in biblioteca:\n",
    "    missing = list(missing)\n",
    "    if missing[1] == 0:\n",
    "        print(missing[0])\n"
   ]
  },
  {
   "cell_type": "markdown",
   "metadata": {},
   "source": [
    "Bonus:\n",
    "¿Cómo meterías estos dos elementos en una lista llamada **missing**?"
   ]
  },
  {
   "cell_type": "code",
   "execution_count": 14,
   "metadata": {},
   "outputs": [],
   "source": [
    "# Lo acabo de hacer XD"
   ]
  }
 ],
 "metadata": {
  "kernelspec": {
   "display_name": "Python 3",
   "language": "python",
   "name": "python3"
  },
  "language_info": {
   "codemirror_mode": {
    "name": "ipython",
    "version": 3
   },
   "file_extension": ".py",
   "mimetype": "text/x-python",
   "name": "python",
   "nbconvert_exporter": "python",
   "pygments_lexer": "ipython3",
   "version": "3.8.3-final"
  }
 },
 "nbformat": 4,
 "nbformat_minor": 4
}