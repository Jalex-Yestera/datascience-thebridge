{
 "cells": [
  {
   "cell_type": "markdown",
   "metadata": {},
   "source": [
    "### Bucles con range\n",
    "\n",
    "for i in range(5):\n",
    "\n",
    "### Bucles con enumerate\n",
    "\n",
    "for i, x in enumerate(list)"
   ]
  },
  {
   "cell_type": "code",
   "execution_count": null,
   "metadata": {
    "tags": []
   },
   "outputs": [],
   "source": [
    "for i in range(5):\n",
    "    print(i)"
   ]
  },
  {
   "cell_type": "code",
   "execution_count": null,
   "metadata": {
    "tags": []
   },
   "outputs": [],
   "source": [
    "lista = [0,4, 11, 25, 8, 14, 20, 998,459, 844, 4654, 445, 4594984, 4564, 44]\n",
    "for i, x in enumerate(lista):\n",
    "    print (i,x)"
   ]
  },
  {
   "cell_type": "markdown",
   "metadata": {},
   "source": [
    "### Return en funciones"
   ]
  },
  {
   "cell_type": "markdown",
   "metadata": {},
   "source": [
    "- Crear una función con un parámetro de entrada llamado 'lista' que retorne el primer valor de la 'lista' cuyo valor sea mayor a 7."
   ]
  },
  {
   "cell_type": "code",
   "execution_count": null,
   "metadata": {
    "tags": []
   },
   "outputs": [],
   "source": [
    "lista = [0,4, 11, 25, 8, 14, 20, 998,459, 844, 4654, 445, 459, 4984, 4564, 44]\n",
    "def mayor_que_7(lista):\n",
    "    for i in lista:\n",
    "        if i > 7:\n",
    "            print(i)\n",
    "            break\n",
    "mayor_que_7 (lista)"
   ]
  },
  {
   "cell_type": "markdown",
   "metadata": {},
   "source": [
    "### Bucle while"
   ]
  },
  {
   "cell_type": "markdown",
   "metadata": {},
   "source": [
    "- Recorrer una lista y, mientras la el valor que se está recorriendo sea menor a 60, seguir. Cuando termine, mostrar por pantalla el último elemento recorrido."
   ]
  },
  {
   "cell_type": "code",
   "execution_count": null,
   "metadata": {
    "tags": []
   },
   "outputs": [],
   "source": [
    "lista = [0,4, 11, 25, 8, 14, 20, 998,459, 844, 4654, 445, 459, 4984, 4564, 44]\n",
    "def mayor60():\n",
    "    for elemento in lista:\n",
    "        if elemento < 60:\n",
    "            continue\n",
    "        else:\n",
    "            print(elemento)\n",
    "            break\n",
    "mayor60()"
   ]
  },
  {
   "cell_type": "markdown",
   "metadata": {},
   "source": [
    "### Break"
   ]
  },
  {
   "cell_type": "markdown",
   "metadata": {},
   "source": [
    "### Ejercicios\n",
    "\n",
    "1. Crear una lista 'lista_ejercicio' que tenga cuatro elementos:\n",
    "\n",
    "- Los dos primeros deben ser Strings: \"primero\" y \"SEGUND0\"\n",
    "- El tercero debe ser Entero: 77\n",
    "- El cuarto es la lista [[2, \"9\"]]\n",
    "\n",
    "Se debe:\n",
    "- Crear una función 'funcion_refuerzo' que reciba un parámetro de entrada llamado 'lista'. La función debe crear y guardar en una variable el cuarto elemento de 'lista'. Además, otra variable dentro de la función debe CONCATENAR los dos elementos que tiene. Por último, crear otra variable que contenga el valor de la SUMA de los dos elementos. Llamar a la función con 'lista_ejercicio'\n",
    "- Mostrar por pantalla la suma de los dos elementos que tiene.\n",
    "- Crear una función que concatene los dos Strings y los muestre por pantalla. La función tiene dos parámetros de entrada: 'string_uno' y 'string_dos'. Invocar a la función con los dos primeros Strings de 'lista_ejercicio'\n",
    "- Crear una función que tenga un parámetro de entrada llamado 'lista'. El objetivo de la función es recorrer la lista y mostrar todos los elementos excepto el primero. Invocar a la función con la lista 'lista_ejercicio'."
   ]
  },
  {
   "cell_type": "code",
   "execution_count": null,
   "metadata": {},
   "outputs": [],
   "source": [
    "lista_ejercicio = [\"primero\", \"SEGUNDO\", 77, [2,\"9\"]]"
   ]
  },
  {
   "cell_type": "code",
   "execution_count": null,
   "metadata": {
    "tags": []
   },
   "outputs": [],
   "source": [
    "def funcion_refuerzo (lista):\n",
    "# crear y guardar en una variable el cuarto elemento de 'lista'\n",
    "    x = lista[3]\n",
    "# otra variable dentro de la función debe CONCATENAR los dos elementos que tiene.\n",
    "    y = (str(lista[3][0]) + lista[3][1])\n",
    "# otra variable que contenga el valor de la SUMA de los dos elementos.\n",
    "    z = (lista[3][0] + int(lista[3][1]))\n",
    "    print (x)\n",
    "    print (y)\n",
    "    print (z)\n",
    "funcion_refuerzo(lista_ejercicio)"
   ]
  },
  {
   "cell_type": "code",
   "execution_count": null,
   "metadata": {
    "tags": []
   },
   "outputs": [],
   "source": [
    "# Crear una función que concatene los dos Strings y los muestre por pantalla. La función tiene dos parámetros de entrada: 'string_uno' y 'string_dos'. Invocar a la función con los dos primeros Strings de 'lista_ejercicio'\n",
    "def concatenaitor (string_uno, string_dos):\n",
    "    print( string_uno + string_dos )\n",
    "concatenaitor(string_uno = lista_ejercicio[0], string_dos = lista_ejercicio[1])"
   ]
  },
  {
   "cell_type": "markdown",
   "metadata": {},
   "source": [
    "2. Escribir un programa que pregunte el nombre del usuario en la consola y después de que el usuario lo introduzca muestre por pantalla la cadena ¡Hola x!, donde x es el nombre que el usuario haya introducido.\n"
   ]
  },
  {
   "cell_type": "code",
   "execution_count": 27,
   "metadata": {
    "tags": []
   },
   "outputs": [
    {
     "output_type": "stream",
     "name": "stdout",
     "text": "¡Hola, Waldorf!\n"
    }
   ],
   "source": [
    "def saludo():\n",
    "    x = input (\"¿Cual es tu nombre, torpedo?:\")\n",
    "    print (\"¡Hola, \"+ x +\"!\")\n",
    "saludo()"
   ]
  },
  {
   "cell_type": "markdown",
   "metadata": {},
   "source": [
    "3. Escribir un programa que pregunte el nombre del usuario en la consola y después de que el usuario lo introduzca muestre por pantalla x tiene z letras, donde x es el nombre de usuario en mayúsculas y z es el número de letras que tienen el nombre."
   ]
  },
  {
   "cell_type": "code",
   "execution_count": 48,
   "metadata": {
    "tags": []
   },
   "outputs": [
    {
     "output_type": "stream",
     "name": "stdout",
     "text": "JUANTONIO tiene 9 letras.\n"
    }
   ],
   "source": [
    "def len_nombre():\n",
    "    r = input (\"¿Cual es tu nombre, usuario de la consola?:\")\n",
    "    z = len(r)\n",
    "    r = r.upper()\n",
    "    print(r, \"tiene\", z , \"letras.\")\n",
    "len_nombre()"
   ]
  },
  {
   "cell_type": "markdown",
   "metadata": {},
   "source": [
    "4. Escribir una función que realice la siguiente operación aritmética ((3+2)^2⋅5)/2"
   ]
  },
  {
   "cell_type": "code",
   "execution_count": 56,
   "metadata": {
    "tags": []
   },
   "outputs": [
    {
     "output_type": "stream",
     "name": "stdout",
     "text": "a = 5\nb = 10\nEl resultado es: 7.5 . Aunque 42 habría sido el resultado perfecto\n"
    }
   ],
   "source": [
    "def WTF_0001():\n",
    "    a = 3+2\n",
    "    print(\"a =\", a)\n",
    "    b = 2*5\n",
    "    print(\"b =\",b)\n",
    "    c = a^b\n",
    "    x = c / 2\n",
    "    print (\"El resultado es:\", x, \". Aunque 42 habría sido el resultado perfecto\")\n",
    "WTF_0001()"
   ]
  },
  {
   "cell_type": "markdown",
   "metadata": {},
   "source": [
    "5. El número 3025 tiene la curiosa propiedad que cuando se separa en dos números de dos dígitos cada uno, 30 y 25, se suman luego estos dos dígitos y dicha suma se eleva al cuadrado, el resultado final es 3025. \n",
    "\n",
    "- Realizar, empezando por los dígitos 30 y 25, esta operación.\n",
    "- [[Profesor]] Crear una función que reciba un parámetro de entrada, transforme la entrada a String, cree dos variables que representen al string en dos partes y los retorne.\n",
    "- [[Profesor]] Crear un programa que permita obtener, si existen, todos los números de cuatro dígitos que cumplan la misma condición. (++++++)"
   ]
  },
  {
   "cell_type": "code",
   "execution_count": null,
   "metadata": {},
   "outputs": [],
   "source": [
    "\"\"\"  Este es el enunciado que me manda a la cama XDDD \"\"\""
   ]
  },
  {
   "cell_type": "code",
   "execution_count": null,
   "metadata": {},
   "outputs": [],
   "source": []
  },
  {
   "cell_type": "markdown",
   "metadata": {},
   "source": [
    "6. Crear un programa que, a partir de una lista de números enteros, retorne el número de veces que hay un número par en la lista."
   ]
  }
 ],
 "metadata": {
  "language_info": {
   "name": "python",
   "codemirror_mode": {
    "name": "ipython",
    "version": 3
   },
   "version": "3.7.4-final"
  },
  "orig_nbformat": 2,
  "file_extension": ".py",
  "mimetype": "text/x-python",
  "name": "python",
  "npconvert_exporter": "python",
  "pygments_lexer": "ipython3",
  "version": 3,
  "kernelspec": {
   "name": "python3",
   "display_name": "Python 3"
  }
 },
 "nbformat": 4,
 "nbformat_minor": 2
}