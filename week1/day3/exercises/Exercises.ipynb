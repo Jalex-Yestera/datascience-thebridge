{
 "cells": [
  {
   "cell_type": "markdown",
   "metadata": {},
   "source": [
    "### Ejercicios refuerzo\n",
    "\n",
    "Esta es la lista de ejercicios a realizar. Para cada uno de los ejercicios, separados por una línea, se debe crear una celda de jupyter.\n",
    "\n",
    "*Todos estos ejercicios los corregirá el profesor a lo largo de las clases.*\n",
    "\n",
    "Si un alumno se atasca en un ejercicio, puede avanzar al siguiente. \n",
    "\n",
    "Se recomienda a los alumnos preguntar por conceptos de programación o cuestiones para entender los problemas pero no cómo solucionarlo. A los profesores nos cortan las manos si tocamos los ordenadores de los alumnos.\n",
    "\n",
    "---------\n",
    "\n",
    "- Crear una variable de tipo lista llamada \"lista_alumnos\" en el que cada posición sea el nombre de vuestros compañeros de clase. \n",
    "- Crear 6 variables. Cada una de las variables debe ser una lista y contiene los nombres de los alumnos & profesores que están en esa mesa.  \n",
    "\n",
    "Muestra por pantalla y por separado, las listas creadas.\n",
    "\n",
    "---------\n",
    "\n",
    "Nota: Se utilizará la lista creada de alumnos. Ha de actualizarse con todos los alumnos de la clase. \n",
    "\n",
    "Crear cuatro variables: \n",
    "\n",
    "- Un String que contenga vuestro segundo apellido. La variable se llamará 'apellido'.\n",
    "- Dos enteros que sean: uno, el número de vuestra casa y dos, la edad del compañero de la izquierda. Nombre de variables a vuestra elección.\n",
    "- Una lista que contenga como primer parámetro el número de vuestra casa, como segundo parámetro vuestro segundo apellido y como tercer parámetro la edad de vuestro compañero. \n",
    "\n",
    "Objetivo a partir de los valores de la lista:\n",
    "\n",
    "(Estos ejercicios los hará el profes@r como ejemplo)\n",
    "\n",
    "- Crear una variable que contenga la CONCATENACIÓN de vuestro apellido con vuestra calle. \n",
    "- Otra variable que contenga la CONCATENACIÓN de vuestra calle, un espacio en blanco y la edad del compañero. Utilizar función str. \n",
    "- Otra variable que sea igual al número de caracteres que tiene vuestro apellido SUMADO al número de vuestra calle.\n",
    "- Crear una función llamada 'funcion_vivienda\" que, al invocarla, muestre por pantalla vuestro apellido, un espacio en blanco y el número de vuestra calle. La función recibe un parámetro de entrada que será la lista de alumnos cuando se la invoque.\n",
    "- Crear una función  llamada 'funcion_alumno_edad' que reciba dos argumentos por parámetro (la lista de alumnos de la clase y la lista de los valores previamente creada cuando es invocada) y muestre por pantalla el alumno al que le habéis pedido la edad, dos puntos y su edad."
   ]
  },
  {
   "cell_type": "code",
   "execution_count": 1,
   "metadata": {
    "tags": []
   },
   "outputs": [
    {
     "output_type": "stream",
     "name": "stdout",
     "text": "lista de alumnos\n['Gabriel', 'Natalio', 'Rosario', 'Alba', 'Clara', 'Elsa', 'Filipa', 'Monica', 'Rochi', 'Roxana', 'Tomas', 'Jose Maria']\nmesa1\n['Gabriel']\nmesa2\n['Natalio', 'Valeria']\nmesa3\n['Monica', 'Cristina', 'Alba']\nmesa4\n['Roxanna', 'Elsa', 'Jose Luis']\nmesa5\n['Jose Maria', 'Tomas', 'Filipa']\nmesa6\n['David', 'Jalex', 'Clara']\n"
    }
   ],
   "source": [
    "# Crear una variable de tipo lista llamada \"lista_alumnos\" en el que cada posición sea el nombre de vuestros compañeros de clase.\n",
    "lista_alumnos = [\"Gabriel\", \"Natalio\", \"Rosario\", \"Alba\", \"Clara\", \"Elsa\", \"Filipa\", \"Monica\", \"Rochi\", \"Roxana\", \"Tomas\", \"Jose Maria\"]\n",
    "\n",
    "# Crear 6 variables. Cada una de las variables debe ser una lista y contiene los nombres de los alumnos & profesores que están en esa mesa.\n",
    "mesa1 = [\"Gabriel\"]\n",
    "mesa2 = [\"Natalio\", \"Valeria\"]\n",
    "mesa3 = [\"Monica\",\"Cristina\",\"Alba\"]\n",
    "mesa4 = [\"Roxanna\",\"Elsa\",\"Jose Luis\"]\n",
    "mesa5 = [\"Jose Maria\", \"Tomas\", \"Filipa\"]\n",
    "mesa6 = [\"David\", \"Jalex\", \"Clara\"]\n",
    "\n",
    "# Muestra por pantalla y por separado, las listas creadas.\n",
    "print (\"lista de alumnos\", lista_alumnos, \"mesa1\", mesa1, \"mesa2\", mesa2, \"mesa3\", mesa3,\"mesa4\", mesa4,\"mesa5\", mesa5, \"mesa6\", mesa6, sep='\\n')"
   ]
  },
  {
   "cell_type": "code",
   "execution_count": 2,
   "metadata": {
    "tags": []
   },
   "outputs": [
    {
     "output_type": "stream",
     "name": "stdout",
     "text": "[42, 'de la Encina', 39]\n"
    }
   ],
   "source": [
    "# Un String que contenga vuestro segundo apellido. La variable se llamará 'apellido'.\n",
    "Apellido = \"de la Encina\"\n",
    "# Dos enteros que sean: uno, el número de vuestra casa y dos, la edad del compañero de la izquierda.\n",
    "Casa = 42\n",
    "Edad = 39\n",
    "# Una lista que contenga como primer parámetro el número de vuestra casa, como segundo parámetro vuestro segundo apellido y como tercer parámetro la edad de vuestro compañero.\n",
    "Listado_ejercicio =[Casa, Apellido, Edad]\n",
    "print(Listado_ejercicio)"
   ]
  },
  {
   "cell_type": "code",
   "execution_count": 3,
   "metadata": {
    "tags": []
   },
   "outputs": [
    {
     "output_type": "stream",
     "name": "stdout",
     "text": "de la Encina  42\n['Gabriel', 'Natalio', 'Rosario', 'Alba', 'Clara', 'Elsa', 'Filipa', 'Monica', 'Rochi', 'Roxana', 'Tomas', 'Jose Maria']  : 39\n"
    }
   ],
   "source": [
    "# Crear una variable que contenga la CONCATENACIÓN de vuestro apellido con vuestra calle.\n",
    "r = Apellido + str(Casa)\n",
    "# Otra variable que contenga la CONCATENACIÓN de vuestra calle, un espacio en blanco y la edad del compañero. Utilizar función str.\n",
    "y = str(Casa) + \" \" + str(Edad)\n",
    "# Otra variable que sea igual al número de caracteres que tiene vuestro apellido SUMADO al número de vuestra calle.\n",
    "z = int(len(Apellido))+Casa\n",
    "# Crear una función llamada 'funcion_vivienda\" que, al invocarla, muestre por pantalla vuestro apellido, un espacio en blanco y el número de vuestra calle. \n",
    "def funcion_vivienda(x):\n",
    "    print (Apellido + \"  \" + str(Casa))\n",
    "# La función recibe un parámetro de entrada que será la lista de alumnos cuando se la invoque.\n",
    "funcion_vivienda(x = lista_alumnos)\n",
    "\n",
    "\n",
    "# Crear una función llamada 'funcion_alumno_edad' que reciba dos argumentos por parámetro (la lista de alumnos de la clase y la lista de los valores previamente creada cuando es invocada) y muestre por pantalla el alumno al que le habéis pedido la edad, dos puntos y su edad.\n",
    "def funcion_alumno_edad (alumno, edad):\n",
    "    print (alumno,\" :\" , edad)\n",
    "\n",
    "funcion_alumno_edad (alumno = lista_alumnos, edad = Edad)\n"
   ]
  },
  {
   "cell_type": "markdown",
   "metadata": {},
   "source": [
    "----------\n",
    "(Este ejercicio los hará el profes@r como ejemplo)\n",
    "\n",
    "Un String que contenga vuestro segundo apellido. La variable sé llamará 'apellido'.\n",
    "Dos enteros que sean: uno, el número de vuestra casa y dos, la edad del compañero de la izquierda. Nombre de variables a vuestra elección.\n",
    "Una lista que contenga como primer parámetro el número de vuestra casa, como segundo parámetro vuestro segundo apellido y como tercer parámetro la edad de vuestro compañero."
   ]
  },
  {
   "cell_type": "markdown",
   "metadata": {},
   "source": [
    "----------\n",
    "\n",
    "(Este ejercicio los hará el profes@r como ejemplo)\n",
    "\n",
    "Crear una función llamada 'funcion_vivienda\" que, al invocarla, muestre por pantalla vuestro apellido, un espacio en blanco y el número de vuestra calle. La función recibe un parámetro de entrada que será la lista de alumnos cuando se la invoque.\n",
    "Crear una función llamada 'funcion_alumno_edad' que reciba dos argumentos por parámetro (la lista de alumnos de la clase y la lista de los valores previamente creada cuando es invocada) y muestre por pantalla el alumno al que le habéis pedido la edad, dos puntos y su edad."
   ]
  },
  {
   "cell_type": "markdown",
   "metadata": {},
   "source": [
    "----------\n",
    "### Refuerzo\n",
    "\n",
    "Crear una lista que tenga cuatro elementos: \n",
    "- Los dos primeros deben ser Strings \n",
    "- El tercero debe ser Entero\n",
    "- El cuarto es la lista [[2, \"9\"]]\n",
    "\n",
    "La lista ha de llamarse lista_refuerzo. Además, se debe crear una función 'funcion_refuerzo' que reciba un parámetro de entrada llamado 'lista'. La función debe guardar en una variable el tercer elemento de 'lista'. Para la variable guardada, que es el tercer elemento de la lista que hemos creado en primer lugar, se debe:\n",
    "\n",
    "- Mostrar por pantalla la suma de los dos elementos que tiene. \n",
    "\n",
    "Para llamar a la función, se debe pasar por parámetro la lista que hemos creado en primer lugar.\n",
    "\n",
    "\n"
   ]
  },
  {
   "cell_type": "code",
   "execution_count": 4,
   "metadata": {
    "tags": []
   },
   "outputs": [
    {
     "output_type": "stream",
     "name": "stdout",
     "text": "11\n"
    }
   ],
   "source": [
    "# Crear una lista que tenga cuatro elementos\n",
    "lista_refuerzo = [\"uno\", \"dos\", 3 , [2,\"9\"]]\n",
    "\n",
    "# crear una función 'funcion_refuerzo'\n",
    "def funcion_refuerzo(lista):\n",
    "    return lista[3]\n",
    "# Para llamar a la función, se debe pasar por parámetro la lista que hemos creado en primer lugar.\n",
    "for x in lista_refuerzo:\n",
    "    funcion_refuerzo(lista = lista_refuerzo)\n",
    "# Mostrar por pantalla la suma de los dos elementos que tiene\n",
    "print(x[0]+int(x[1]))\n",
    "\n"
   ]
  },
  {
   "cell_type": "markdown",
   "metadata": {},
   "source": [
    "----------\n",
    "Crear una función 'funcion_comparativa' que reciba un parámetro de entrada 'param1' y que muestre por pantalla 'Menor a 0' si 'param1' es menor a 0. En el caso en el que sea igual a 0, debe mostrar 'Igual a 0'. En el caso en el que sea mayor a 20 y menor que 70, debe mostrar 'Mayor a 20 y menor que 70' . Para cualquier otro caso, mostrar 'Demasiado grande'"
   ]
  },
  {
   "cell_type": "code",
   "execution_count": 5,
   "metadata": {},
   "outputs": [],
   "source": [
    "# Crear una función 'funcion_comparativa'\n",
    "def funcion_comparativa(param1):\n",
    "    param1 = input(\"Teclea un numero\")\n",
    "    if param1 < 0:\n",
    "        print(\"Menor a 0\")\n",
    "    elif param1 == 0:\n",
    "        print(\"Igual a 0\")\n",
    "    elif param1 >20 and param1 <70:\n",
    "        print(\"Mayor a 20 y menor que 70\")\n",
    "    else:\n",
    "        print(\"Demasiado grande\")"
   ]
  },
  {
   "cell_type": "markdown",
   "metadata": {},
   "source": [
    "----------\n",
    "A partir de la lista de alumnos, mostrar las columnas de alumnos cuando haya más de 3 alumnos. "
   ]
  },
  {
   "cell_type": "code",
   "execution_count": 6,
   "metadata": {},
   "outputs": [
    {
     "output_type": "execute_result",
     "data": {
      "text/plain": "' No entiendo el enunciado '"
     },
     "metadata": {},
     "execution_count": 6
    }
   ],
   "source": [
    "\"\"\" No entiendo el enunciado \"\"\""
   ]
  },
  {
   "cell_type": "markdown",
   "metadata": {},
   "source": [
    "----------\n",
    "Crear una función 'funcion_recorre' que sea capaz de recorrer una lista de entrada y mostrar un elemento sí, otro no, otro sí, otro no,(...)."
   ]
  },
  {
   "cell_type": "code",
   "execution_count": 14,
   "metadata": {
    "tags": []
   },
   "outputs": [
    {
     "output_type": "stream",
     "name": "stdout",
     "text": "Gabriel\nRosario\nClara\nFilipa\nRochi\nTomas\n"
    }
   ],
   "source": [
    "def funcion_recorre (lista):\n",
    "    acum = 0\n",
    "    for elemento in lista:\n",
    "        if acum < len(lista_alumnos):\n",
    "            print (lista[acum])\n",
    "            acum += 2\n",
    "        else:\n",
    "            break\n",
    "funcion_recorre (lista = lista_alumnos)"
   ]
  },
  {
   "cell_type": "markdown",
   "metadata": {},
   "source": [
    "----------\n",
    "### If, else, Bucle for, append, input, sort listas.\n",
    "\n",
    "#### Nueva celda por punto.\n",
    "----------\n",
    "- Crear una lista de listas con la altura de los alumnos (más o menos). Debe tener el mismo orden que la lista de listas de los alumnos. \n",
    "\n",
    "----------\n",
    "Crear una función 'funcion_altura_v1' que reciba un parámetro (que será la lista de alturas). La función debe:\n",
    "\n",
    "- Recorrer la lista de alturas y mostrar por pantalla solo las alturas que sean mayores o iguales que 175cms.\n",
    "\n",
    "----------\n",
    "Crear una función 'funcion_altura_v2' que reciba un parámetro (que será la lista de alturas). La función debe:\n",
    "\n",
    "\n",
    "- Recorrer la lista de alturas y mostrar sólo el índice en la lista del valor de la altura que está recorriendo.\n",
    "\n",
    "----------\n",
    "Crear una función 'funcion_altura_v3' que reciba dos parámetros (que serán la lista de alturas y la lista de alumnos). La función debe:\n",
    "\n",
    "- Recorrer ambas listas para mostrar por pantalla las alturas que sean menores que 175 ACOMPAÑADO del nombre de la persona que tenga esa altura. Se recuerda que las dos listas han de estar ordenadas Alumno - Altura en la misma posición."
   ]
  },
  {
   "cell_type": "code",
   "execution_count": 8,
   "metadata": {},
   "outputs": [],
   "source": [
    "# Crear una lista de listas con la altura de los alumnos \n",
    "lista_alturas = [[\"Jalex\", 1.80], [\"Tomas\", 1.80], [\"David\", 1.81], [\"Natalio\", 1.73], [\"Monica\", 1.73], [\"Roxanna\",1.75], [\"Filipa\",1.64], [\"Elsa\", 1.89], [\"Cristina\", 1.70], [\"Clara\", 1.67], [\"Alba\", 1.68], [\"Valeria\", 1.60], [\"Jose Luis\", 1.69], [\"Gabriel\", 1.76], [\"Rochi\", 1.60], [\"Jose Maria\", 1.75]]"
   ]
  },
  {
   "cell_type": "code",
   "execution_count": 17,
   "metadata": {
    "tags": []
   },
   "outputs": [
    {
     "output_type": "stream",
     "name": "stdout",
     "text": "1.8\n1.8\n1.81\n1.75\n1.89\n1.76\n1.75\n"
    }
   ],
   "source": [
    "# Crear función 'funcion_altura_v1' que muestra solo las alturas que sean mayores o iguales que 175cms\n",
    "def funcion_altura_v1():\n",
    "    for elemento in lista_alturas:\n",
    "        if elemento[1] >= 1.75:\n",
    "            print (elemento[1])\n",
    "funcion_altura_v1()"
   ]
  },
  {
   "cell_type": "code",
   "execution_count": 16,
   "metadata": {
    "tags": []
   },
   "outputs": [
    {
     "output_type": "stream",
     "name": "stdout",
     "text": "0\n1\n2\n3\n4\n5\n6\n7\n8\n9\n10\n11\n12\n13\n14\n15\n"
    }
   ],
   "source": [
    "# Crear función 'funcion_altura_v2' que muestra sólo el índice en la lista del valor de la altura que está recorriendo\n",
    "def funcion_altura_v2():\n",
    "    for elemento in lista_alturas:\n",
    "        print(lista_alturas.index(elemento))\n",
    "funcion_altura_v2()"
   ]
  },
  {
   "cell_type": "code",
   "execution_count": 33,
   "metadata": {
    "tags": []
   },
   "outputs": [
    {
     "output_type": "stream",
     "name": "stdout",
     "text": "1.73 Natalio\n1.73 Natalio\n1.64 Filipa\n1.7 Cristina\n1.67 Clara\n1.68 Alba\n1.6 Valeria\n1.69 Jose Luis\n1.6 Valeria\n"
    }
   ],
   "source": [
    "alturas = [1.80, 1.80,  1.81, 1.73, 1.73, 1.75, 1.64, 1.89, 1.70, 1.67, 1.68, 1.60, 1.69, 1.76, 1.60, 1.75]\n",
    "alumnos = [\"Jalex\", \"Tomas\", \"David\", \"Natalio\", \"Monica\", \"Roxanna\", \"Filipa\", \"Elsa\", \"Cristina\", \"Clara\", \"Alba\", \"Valeria\", \"Jose Luis\", \"Gabriel\", \"Rochi\", \"Jose Maria\"]\n",
    "# Crear función 'funcion_altura_v3' que muestra las alturas que sean menores que 175 ACOMPAÑADO del nombre de la persona que tenga esa altura\n",
    "def funcion_altura_v3():\n",
    "    for altura in alturas:\n",
    "        pos = alturas.index(altura)\n",
    "        alumno = alumnos[pos]\n",
    "        if altura < 1.75:\n",
    "            print (altura, alumno)\n",
    "\n",
    "funcion_altura_v3()"
   ]
  },
  {
   "cell_type": "code",
   "execution_count": null,
   "metadata": {},
   "outputs": [],
   "source": []
  }
 ],
 "metadata": {
  "language_info": {
   "name": "python",
   "codemirror_mode": {
    "name": "ipython",
    "version": 3
   },
   "version": "3.8.3-final"
  },
  "orig_nbformat": 2,
  "file_extension": ".py",
  "mimetype": "text/x-python",
  "name": "python",
  "npconvert_exporter": "python",
  "pygments_lexer": "ipython3",
  "version": 3,
  "kernelspec": {
   "name": "python3",
   "display_name": "Python 3"
  }
 },
 "nbformat": 4,
 "nbformat_minor": 2
}