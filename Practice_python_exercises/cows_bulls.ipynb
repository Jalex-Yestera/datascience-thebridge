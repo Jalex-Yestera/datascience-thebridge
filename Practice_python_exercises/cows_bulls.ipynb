{
 "cells": [
  {
   "cell_type": "code",
   "execution_count": 67,
   "metadata": {
    "tags": []
   },
   "outputs": [
    {
     "output_type": "stream",
     "name": "stdout",
     "text": "4744\n"
    }
   ],
   "source": [
    "# Generador de numero aleatorio:\n",
    "import numpy as np\n",
    "# Return list fith random integers from low (inclusive) to high (exclusive).\n",
    "number = np.random.randint(0, high=10, size=4, dtype=int)\n",
    "# Group the four elements in the list to a str\n",
    "strings = [str(num) for num in number]\n",
    "a_string = \"\".join(strings)\n",
    "# En la linea inferior se puede mocificar el tipo de number a int (= int(a_string))\n",
    "# en este caso nos viene bien que sea str\n",
    "number = (a_string)\n",
    "print(number)"
   ]
  },
  {
   "cell_type": "code",
   "execution_count": 64,
   "metadata": {
    "tags": []
   },
   "outputs": [
    {
     "output_type": "stream",
     "name": "stdout",
     "text": "bull +1\n------------------\nYour number: 1401\nBulls 1\nCows: 5\n"
    }
   ],
   "source": [
    "# Datos\n",
    "bulls_acum = 0\n",
    "cows_acum = 0\n",
    "# Arrancar el juego\n",
    "while cows_acum < 4:\n",
    "    answer = input (\"Insert a 4 digit number. Write 'END' to quit the game\")\n",
    "\n",
    "# operacion del juego \n",
    "    if answer.isnumeric() and len(answer) == 4:\n",
    "        for pos, num in enumerate(number):\n",
    "            if num == answer[pos]: # Is a cow?\n",
    "                cows_acum += 1\n",
    "    \n",
    "            elif num in answer: # Is a bull?\n",
    "                bulls_acum += 1\n",
    "                print(\"bull +1\")\n",
    "        if not bulls_acum and not cows_acum:\n",
    "            print (\"No cows or bulls in your answer.\")\n",
    "    elif answer == \"END\":\n",
    "        print (\"El numero era:\", number)\n",
    "        break\n",
    "print(\"------------------\")\n",
    "print(\"Your number:\", answer)\n",
    "print(\"Bulls\", bulls_acum)\n",
    "print(\"Cows:\",cows_acum)\n",
    "bulls_acum = 0\n",
    "cows_acum = 0\n"
   ]
  },
  {
   "cell_type": "code",
   "execution_count": null,
   "metadata": {},
   "outputs": [],
   "source": [
    "er "
   ]
  },
  {
   "cell_type": "code",
   "execution_count": null,
   "metadata": {},
   "outputs": [],
   "source": []
  }
 ],
 "metadata": {
  "language_info": {
   "codemirror_mode": {
    "name": "ipython",
    "version": 3
   },
   "file_extension": ".py",
   "mimetype": "text/x-python",
   "name": "python",
   "nbconvert_exporter": "python",
   "pygments_lexer": "ipython3",
   "version": "3.8.3-final"
  },
  "orig_nbformat": 2,
  "kernelspec": {
   "name": "python_defaultSpec_1594123480236",
   "display_name": "Python 3.8.3 64-bit"
  }
 },
 "nbformat": 4,
 "nbformat_minor": 2
}