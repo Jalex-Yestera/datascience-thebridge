{
 "cells": [
  {
   "cell_type": "markdown",
   "metadata": {},
   "source": [
    "Link:\n",
    "\n",
    "- [Guess_Letter](https://www.practicepython.org/solution/2017/01/08/31-guess-letters-solutions.html)\n",
    "\n",
    "An example interaction can look like this:\n",
    "\n",
    "*From 'EVAPORATE':*\n",
    "\n",
    ">> Welcome to Hangman!\n",
    "\n",
    ">>> \\_ _ _ _ _ _ _ _ _\n",
    "\n",
    ">> Guess your letter: S\n",
    "\n",
    ">>>Incorrect!\n",
    "\n",
    ">> Guess your letter: E\n",
    "\n",
    ">>> E _ _ _ _ _ _ _ E\n",
    "\n",
    "...\n",
    "\n",
    "Until 6 attemps or correct word."
   ]
  },
  {
   "cell_type": "code",
   "execution_count": 5,
   "metadata": {},
   "outputs": [],
   "source": [
    "def ver_tablero ():\n",
    "    for x in tablero:\n",
    "        ver_tablero = (x +\" \")\n",
    "        print (ver_tablero, \"\\n\")\n"
   ]
  },
  {
   "cell_type": "code",
   "execution_count": 6,
   "metadata": {
    "tags": []
   },
   "outputs": [
    {
     "output_type": "stream",
     "name": "stdout",
     "text": "_________  \n\n"
    },
    {
     "output_type": "execute_result",
     "data": {
      "text/plain": "' while attemps < 6 and \"_\" not in tablero:\\n\\n    # Introducir una letra\\n    di_una_letra = input (\"Adivina una letra\")\\n    print (\"Letras jugadas:\" + di_una_letra)\\n    \\n    aciertos = []\\n    if di_una_letra in word:\\n        for pos, elem in enumerate (word):\\n            if elem == di_una_letra:\\n                aciertos.append(pos)\\n        for pos in aciertos:\\n            tablero[pos] = di_una_letra\\n    # Si no está, mostrar \"error\" y sumar attemp+1. Si attemps == 6 fin del juego\\n    # Lista de letras que ya han sido usadas\\n    # Si está incluir la letra en su posición. Si es la ultima, mostrar \"has ganado\" y fin\\n# while '"
     },
     "metadata": {},
     "execution_count": 6
    }
   ],
   "source": [
    "# Elegir la palabra a acertar\n",
    "word = \"EVAPORATE\"\n",
    "tablero = [\"_\" * len(word)]\n",
    "attemps = 0\n",
    "# Mostrar el tablero\n",
    "\n",
    "ver_tablero ()\n",
    "\n",
    "while attemps < 6 and \"_\" not in tablero:\n",
    "\n",
    "    # Introducir una letra\n",
    "    di_una_letra = input (\"Adivina una letra\")\n",
    "    print (\"Letras jugadas:\" + di_una_letra)\n",
    "    \n",
    "    aciertos = []\n",
    "    if di_una_letra in word:\n",
    "        for pos, elem in enumerate (word):\n",
    "            if elem == di_una_letra:\n",
    "                aciertos.append(pos)\n",
    "        for pos in aciertos:\n",
    "            tablero[pos] = di_una_letra\n",
    "    # Si no está, mostrar \"error\" y sumar attemp+1. Si attemps == 6 fin del juego\n",
    "    # Lista de letras que ya han sido usadas\n",
    "    # Si está incluir la letra en su posición. Si es la ultima, mostrar \"has ganado\" y fin\n",
    "# while"
   ]
  },
  {
   "cell_type": "code",
   "execution_count": null,
   "metadata": {},
   "outputs": [],
   "source": []
  }
 ],
 "metadata": {
  "language_info": {
   "codemirror_mode": {
    "name": "ipython",
    "version": 3
   },
   "file_extension": ".py",
   "mimetype": "text/x-python",
   "name": "python",
   "nbconvert_exporter": "python",
   "pygments_lexer": "ipython3",
   "version": 3
  },
  "orig_nbformat": 2,
  "kernelspec": {
   "name": "python_defaultSpec_1594199871601",
   "display_name": "Python 3.8.3 64-bit"
  }
 },
 "nbformat": 4,
 "nbformat_minor": 2
}