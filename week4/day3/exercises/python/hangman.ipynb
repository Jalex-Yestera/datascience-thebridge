{
 "cells": [
  {
   "cell_type": "markdown",
   "metadata": {},
   "source": [
    "Link:\n",
    "\n",
    "- [Guess_Letter](https://www.practicepython.org/solution/2017/01/08/31-guess-letters-solutions.html)\n",
    "\n",
    "An example interaction can look like this:\n",
    "\n",
    "*From 'EVAPORATE':*\n",
    "\n",
    ">> Welcome to Hangman!\n",
    "\n",
    ">>> \\_ _ _ _ _ _ _ _ _\n",
    "\n",
    ">> Guess your letter: S\n",
    "\n",
    ">>>Incorrect!\n",
    "\n",
    ">> Guess your letter: E\n",
    "\n",
    ">>> E _ _ _ _ _ _ _ E\n",
    "\n",
    "...\n",
    "\n",
    "Until 6 attemps or correct word."
   ]
  },
  {
   "cell_type": "code",
   "execution_count": null,
   "metadata": {},
   "outputs": [],
   "source": []
  }
 ],
 "metadata": {
  "language_info": {
   "codemirror_mode": {
    "name": "ipython",
    "version": 3
   },
   "file_extension": ".py",
   "mimetype": "text/x-python",
   "name": "python",
   "nbconvert_exporter": "python",
   "pygments_lexer": "ipython3",
   "version": 3
  },
  "orig_nbformat": 2
 },
 "nbformat": 4,
 "nbformat_minor": 2
}