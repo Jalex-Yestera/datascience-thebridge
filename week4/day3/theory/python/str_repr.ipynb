{
 "nbformat": 4,
 "nbformat_minor": 2,
 "metadata": {
  "language_info": {
   "name": "python",
   "codemirror_mode": {
    "name": "ipython",
    "version": 3
   },
   "version": "3.7.4-final"
  },
  "orig_nbformat": 2,
  "file_extension": ".py",
  "mimetype": "text/x-python",
  "name": "python",
  "npconvert_exporter": "python",
  "pygments_lexer": "ipython3",
  "version": 3,
  "kernelspec": {
   "name": "python37464bitbasecondadf9388185d494eceb1ea53207dd5bb3f",
   "display_name": "Python 3.7.4 64-bit ('base': conda)"
  }
 },
 "cells": [
  {
   "cell_type": "code",
   "execution_count": 23,
   "metadata": {},
   "outputs": [],
   "source": [
    "class Dog:\n",
    "    def __init__(self, name, age):\n",
    "        self.name = name\n",
    "        self.age = age\n",
    "\n",
    "    def show_attributes():\n",
    "        print(str(self.name) + \" tiene \" + str(self.age) + \" años\")\n",
    "\n",
    "class Human:\n",
    "\n",
    "    def __init__(self, name, age):\n",
    "        self.name = name\n",
    "        self.age = int(age)\n",
    "\n",
    "    def __str__(self):\n",
    "        return \"Nombre \" + self.name + \" tiene \" + self.age + \" años.\"\n",
    "\n",
    "    def __repr__(self):\n",
    "        return \"Nombre \" + self.name + \" y edad \" + self.age + \" años\"\n",
    "    \n",
    "    def __eq__(self, another_human):\n",
    "        if self.name == another_human.name and self.age == another_human.age:\n",
    "            return True\n",
    "        else:\n",
    "            return False\n",
    "    \n",
    "    def __add__(self, another):\n",
    "        return self.age + another.age\n",
    "\n",
    "juan = Human(\"Juan\", 24)\n",
    "lorena = Human(\"Lorena\", 98)"
   ]
  },
  {
   "cell_type": "code",
   "execution_count": 22,
   "metadata": {},
   "outputs": [
    {
     "name": "stdout",
     "output_type": "stream",
     "text": "<__main__.Dog object at 0x1056ee410>\n"
    },
    {
     "data": {
      "text/plain": "'<__main__.Dog object at 0x1056ee410>'"
     },
     "execution_count": 22,
     "metadata": {},
     "output_type": "execute_result"
    }
   ],
   "source": [
    "lasy = Dog(name=\"Lasy\", age=2)\n",
    "print(lasy)\n",
    "repr(lasy)"
   ]
  },
  {
   "cell_type": "code",
   "execution_count": 7,
   "metadata": {},
   "outputs": [
    {
     "name": "stdout",
     "output_type": "stream",
     "text": "Nombre Juan tiene 24 años.\n"
    }
   ],
   "source": [
    "print(str(juan))"
   ]
  },
  {
   "cell_type": "code",
   "execution_count": 21,
   "metadata": {},
   "outputs": [
    {
     "name": "stdout",
     "output_type": "stream",
     "text": "La clase Human de nombre Lorena tiene 98 años.\n"
    }
   ],
   "source": [
    "print(lorena)"
   ]
  },
  {
   "cell_type": "code",
   "execution_count": 22,
   "metadata": {},
   "outputs": [
    {
     "data": {
      "text/plain": "'Human con nombre Juan y edad 24 años'"
     },
     "execution_count": 22,
     "metadata": {},
     "output_type": "execute_result"
    }
   ],
   "source": [
    "repr(juan)"
   ]
  },
  {
   "cell_type": "code",
   "execution_count": 11,
   "metadata": {},
   "outputs": [
    {
     "data": {
      "text/plain": "'Nombre Lorena y edad 98 años'"
     },
     "execution_count": 11,
     "metadata": {},
     "output_type": "execute_result"
    }
   ],
   "source": [
    "repr(lorena)"
   ]
  },
  {
   "cell_type": "code",
   "execution_count": 24,
   "metadata": {},
   "outputs": [
    {
     "name": "stdout",
     "output_type": "stream",
     "text": "Son la misma Lorena!!!\n"
    }
   ],
   "source": [
    "another_lorena = Human(\"Lorena\", 98)\n",
    "if lorena == another_lorena:\n",
    "    print(\"Son la misma Lorena!!!\")"
   ]
  },
  {
   "cell_type": "code",
   "execution_count": 14,
   "metadata": {},
   "outputs": [
    {
     "name": "stdout",
     "output_type": "stream",
     "text": "No son iguales\n"
    }
   ],
   "source": [
    "lasy1 = Dog(name=\"Lasy\", age=2)\n",
    "lasy2 = Dog(name=\"Lasy\", age=2)\n",
    "\n",
    "if lasy1 == lasy2:\n",
    "    print(\"Son el mismo perro!!!\")\n",
    "else:\n",
    "    print(\"No son iguales\")"
   ]
  },
  {
   "cell_type": "code",
   "execution_count": null,
   "metadata": {},
   "outputs": [],
   "source": [
    "lasy1.__eq__(lasy2)"
   ]
  },
  {
   "cell_type": "code",
   "execution_count": 15,
   "metadata": {},
   "outputs": [
    {
     "name": "stdout",
     "output_type": "stream",
     "text": "Yes\n"
    }
   ],
   "source": [
    "if lasy1 == lasy1:\n",
    "    print(\"Yes\")\n",
    "\n"
   ]
  },
  {
   "cell_type": "code",
   "execution_count": null,
   "metadata": {},
   "outputs": [],
   "source": [
    "print(str(lorena + another_lorena))"
   ]
  },
  {
   "cell_type": "code",
   "execution_count": null,
   "metadata": {},
   "outputs": [],
   "source": []
  }
 ]
}