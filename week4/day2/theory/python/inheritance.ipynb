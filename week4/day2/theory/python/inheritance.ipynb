{
 "cells": [
  {
   "cell_type": "markdown",
   "metadata": {},
   "source": [
    "Inheritance in python"
   ]
  },
  {
   "cell_type": "code",
   "execution_count": 1,
   "metadata": {},
   "outputs": [],
   "source": [
    "class Ser_Vivo():\n",
    "    \"\"\" Father/Mother class \"\"\"\n",
    "    def __init__(self, species, born_date, procreate_ability=True,  aging_disease=True):\n",
    "        self.is_living = True\n",
    "        self.species = species\n",
    "        self.procreate_ability = procreate_ability\n",
    "        self.aging_disease = aging_disease\n",
    "        self.born_date = born_date\n",
    "\n",
    "    def living_being_function(self):\n",
    "        print(\"I am a living being!\")"
   ]
  },
  {
   "cell_type": "code",
   "execution_count": 18,
   "metadata": {},
   "outputs": [],
   "source": [
    "class Human(Ser_Vivo):\n",
    "    \"\"\"Children class\"\"\"\n",
    "    def __init__(self, born_date, procreate_ability=False, eyes=2, legs=2, intelligence_ability=True):\n",
    "        \"\"\" Herencia \"\"\" \n",
    "        Ser_Vivo.__init__(self, species=\"Human\", procreate_ability=procreate_ability, born_date=born_date)\n",
    "        self.eyes = eyes\n",
    "        self.legs = legs\n",
    "        self.intelligence_ability = intelligence_ability"
   ]
  },
  {
   "cell_type": "code",
   "execution_count": 25,
   "metadata": {},
   "outputs": [
    {
     "name": "stdout",
     "output_type": "stream",
     "text": "humano.is_living: True\n\nCalling to living_being_function():\n\nI am a living being!\n"
    }
   ],
   "source": [
    "humano = Human(born_date=\"13/05/1991\", procreate_ability=False)\n",
    "print(\"humano.is_living:\", humano.is_living)\n",
    "print(\"\\nCalling to living_being_function():\\n\")\n",
    "humano.living_being_function()"
   ]
  },
  {
   "cell_type": "code",
   "execution_count": 3,
   "metadata": {},
   "outputs": [
    {
     "name": "stdout",
     "output_type": "stream",
     "text": "I am a living being!\n"
    }
   ],
   "source": [
    "class Animal(Ser_Vivo):\n",
    "    def __init__(self, volar, born_date, tipo_celula=\"Eucariota\"):\n",
    "        Ser_Vivo.__init__(self, born_date=born_date, species=\"Animal\")\n",
    "        self.volar = volar\n",
    "        self.tipo_celula = tipo_celula\n",
    "\n",
    "perro_volador = Animal(volar=True, born_date=\"12/02/2020\")\n",
    "\n",
    "perro_volador.living_being_function()"
   ]
  },
  {
   "cell_type": "code",
   "execution_count": null,
   "metadata": {},
   "outputs": [],
   "source": []
  }
 ],
 "metadata": {
  "language_info": {
   "name": "python",
   "codemirror_mode": {
    "name": "ipython",
    "version": 3
   },
   "version": "3.8.3-final"
  },
  "orig_nbformat": 2,
  "file_extension": ".py",
  "mimetype": "text/x-python",
  "name": "python",
  "npconvert_exporter": "python",
  "pygments_lexer": "ipython3",
  "version": 3,
  "kernelspec": {
   "name": "python38332bit7bd9c3dfbaae4ec28486f8bc70a36930",
   "display_name": "Python 3.8.3 32-bit"
  }
 },
 "nbformat": 4,
 "nbformat_minor": 2
}