{
 "cells": [
  {
   "cell_type": "markdown",
   "metadata": {},
   "source": [
    "# Ex3 - Getting and Knowing your Dataexercises"
   ]
  },
  {
   "cell_type": "markdown",
   "metadata": {},
   "source": [
    "### Step 1. Import the necessary libraries"
   ]
  },
  {
   "cell_type": "code",
   "execution_count": 3,
   "metadata": {},
   "outputs": [],
   "source": [
    "import pandas as pd"
   ]
  },
  {
   "cell_type": "markdown",
   "metadata": {},
   "source": [
    "### Step 2. Import the dataset from this [address](https://raw.githubusercontent.com/justmarkham/DAT8/master/data/u.user). "
   ]
  },
  {
   "cell_type": "code",
   "execution_count": 4,
   "metadata": {},
   "outputs": [
    {
     "output_type": "execute_result",
     "data": {
      "text/plain": "         age gender     occupation zip_code\nuser_id                                    \n1         24      M     technician    85711\n2         53      F          other    94043\n3         23      M         writer    32067\n4         24      M     technician    43537\n5         33      F          other    15213\n...      ...    ...            ...      ...\n939       26      F        student    33319\n940       32      M  administrator    02215\n941       20      M        student    97229\n942       48      F      librarian    78209\n943       22      M        student    77841\n\n[943 rows x 4 columns]",
      "text/html": "<div>\n<style scoped>\n    .dataframe tbody tr th:only-of-type {\n        vertical-align: middle;\n    }\n\n    .dataframe tbody tr th {\n        vertical-align: top;\n    }\n\n    .dataframe thead th {\n        text-align: right;\n    }\n</style>\n<table border=\"1\" class=\"dataframe\">\n  <thead>\n    <tr style=\"text-align: right;\">\n      <th></th>\n      <th>age</th>\n      <th>gender</th>\n      <th>occupation</th>\n      <th>zip_code</th>\n    </tr>\n    <tr>\n      <th>user_id</th>\n      <th></th>\n      <th></th>\n      <th></th>\n      <th></th>\n    </tr>\n  </thead>\n  <tbody>\n    <tr>\n      <th>1</th>\n      <td>24</td>\n      <td>M</td>\n      <td>technician</td>\n      <td>85711</td>\n    </tr>\n    <tr>\n      <th>2</th>\n      <td>53</td>\n      <td>F</td>\n      <td>other</td>\n      <td>94043</td>\n    </tr>\n    <tr>\n      <th>3</th>\n      <td>23</td>\n      <td>M</td>\n      <td>writer</td>\n      <td>32067</td>\n    </tr>\n    <tr>\n      <th>4</th>\n      <td>24</td>\n      <td>M</td>\n      <td>technician</td>\n      <td>43537</td>\n    </tr>\n    <tr>\n      <th>5</th>\n      <td>33</td>\n      <td>F</td>\n      <td>other</td>\n      <td>15213</td>\n    </tr>\n    <tr>\n      <th>...</th>\n      <td>...</td>\n      <td>...</td>\n      <td>...</td>\n      <td>...</td>\n    </tr>\n    <tr>\n      <th>939</th>\n      <td>26</td>\n      <td>F</td>\n      <td>student</td>\n      <td>33319</td>\n    </tr>\n    <tr>\n      <th>940</th>\n      <td>32</td>\n      <td>M</td>\n      <td>administrator</td>\n      <td>02215</td>\n    </tr>\n    <tr>\n      <th>941</th>\n      <td>20</td>\n      <td>M</td>\n      <td>student</td>\n      <td>97229</td>\n    </tr>\n    <tr>\n      <th>942</th>\n      <td>48</td>\n      <td>F</td>\n      <td>librarian</td>\n      <td>78209</td>\n    </tr>\n    <tr>\n      <th>943</th>\n      <td>22</td>\n      <td>M</td>\n      <td>student</td>\n      <td>77841</td>\n    </tr>\n  </tbody>\n</table>\n<p>943 rows × 4 columns</p>\n</div>"
     },
     "metadata": {},
     "execution_count": 4
    }
   ],
   "source": [
    "users = pd.read_csv ('https://raw.githubusercontent.com/justmarkham/DAT8/master/data/u.user', sep = \"|\", index_col='user_id')\n",
    "users"
   ]
  },
  {
   "cell_type": "markdown",
   "metadata": {},
   "source": [
    "### Step 3. Assign it to a variable called users and use the 'user_id' as index"
   ]
  },
  {
   "cell_type": "code",
   "execution_count": 40,
   "metadata": {},
   "outputs": [],
   "source": []
  },
  {
   "cell_type": "markdown",
   "metadata": {},
   "source": [
    "### Step 4. See the first 25 entries"
   ]
  },
  {
   "cell_type": "code",
   "execution_count": 5,
   "metadata": {},
   "outputs": [
    {
     "output_type": "execute_result",
     "data": {
      "text/plain": "         age gender     occupation zip_code\nuser_id                                    \n1         24      M     technician    85711\n2         53      F          other    94043\n3         23      M         writer    32067\n4         24      M     technician    43537\n5         33      F          other    15213\n6         42      M      executive    98101\n7         57      M  administrator    91344\n8         36      M  administrator    05201\n9         29      M        student    01002\n10        53      M         lawyer    90703\n11        39      F          other    30329\n12        28      F          other    06405\n13        47      M       educator    29206\n14        45      M      scientist    55106\n15        49      F       educator    97301\n16        21      M  entertainment    10309\n17        30      M     programmer    06355\n18        35      F          other    37212\n19        40      M      librarian    02138\n20        42      F      homemaker    95660\n21        26      M         writer    30068\n22        25      M         writer    40206\n23        30      F         artist    48197\n24        21      F         artist    94533\n25        39      M       engineer    55107",
      "text/html": "<div>\n<style scoped>\n    .dataframe tbody tr th:only-of-type {\n        vertical-align: middle;\n    }\n\n    .dataframe tbody tr th {\n        vertical-align: top;\n    }\n\n    .dataframe thead th {\n        text-align: right;\n    }\n</style>\n<table border=\"1\" class=\"dataframe\">\n  <thead>\n    <tr style=\"text-align: right;\">\n      <th></th>\n      <th>age</th>\n      <th>gender</th>\n      <th>occupation</th>\n      <th>zip_code</th>\n    </tr>\n    <tr>\n      <th>user_id</th>\n      <th></th>\n      <th></th>\n      <th></th>\n      <th></th>\n    </tr>\n  </thead>\n  <tbody>\n    <tr>\n      <th>1</th>\n      <td>24</td>\n      <td>M</td>\n      <td>technician</td>\n      <td>85711</td>\n    </tr>\n    <tr>\n      <th>2</th>\n      <td>53</td>\n      <td>F</td>\n      <td>other</td>\n      <td>94043</td>\n    </tr>\n    <tr>\n      <th>3</th>\n      <td>23</td>\n      <td>M</td>\n      <td>writer</td>\n      <td>32067</td>\n    </tr>\n    <tr>\n      <th>4</th>\n      <td>24</td>\n      <td>M</td>\n      <td>technician</td>\n      <td>43537</td>\n    </tr>\n    <tr>\n      <th>5</th>\n      <td>33</td>\n      <td>F</td>\n      <td>other</td>\n      <td>15213</td>\n    </tr>\n    <tr>\n      <th>6</th>\n      <td>42</td>\n      <td>M</td>\n      <td>executive</td>\n      <td>98101</td>\n    </tr>\n    <tr>\n      <th>7</th>\n      <td>57</td>\n      <td>M</td>\n      <td>administrator</td>\n      <td>91344</td>\n    </tr>\n    <tr>\n      <th>8</th>\n      <td>36</td>\n      <td>M</td>\n      <td>administrator</td>\n      <td>05201</td>\n    </tr>\n    <tr>\n      <th>9</th>\n      <td>29</td>\n      <td>M</td>\n      <td>student</td>\n      <td>01002</td>\n    </tr>\n    <tr>\n      <th>10</th>\n      <td>53</td>\n      <td>M</td>\n      <td>lawyer</td>\n      <td>90703</td>\n    </tr>\n    <tr>\n      <th>11</th>\n      <td>39</td>\n      <td>F</td>\n      <td>other</td>\n      <td>30329</td>\n    </tr>\n    <tr>\n      <th>12</th>\n      <td>28</td>\n      <td>F</td>\n      <td>other</td>\n      <td>06405</td>\n    </tr>\n    <tr>\n      <th>13</th>\n      <td>47</td>\n      <td>M</td>\n      <td>educator</td>\n      <td>29206</td>\n    </tr>\n    <tr>\n      <th>14</th>\n      <td>45</td>\n      <td>M</td>\n      <td>scientist</td>\n      <td>55106</td>\n    </tr>\n    <tr>\n      <th>15</th>\n      <td>49</td>\n      <td>F</td>\n      <td>educator</td>\n      <td>97301</td>\n    </tr>\n    <tr>\n      <th>16</th>\n      <td>21</td>\n      <td>M</td>\n      <td>entertainment</td>\n      <td>10309</td>\n    </tr>\n    <tr>\n      <th>17</th>\n      <td>30</td>\n      <td>M</td>\n      <td>programmer</td>\n      <td>06355</td>\n    </tr>\n    <tr>\n      <th>18</th>\n      <td>35</td>\n      <td>F</td>\n      <td>other</td>\n      <td>37212</td>\n    </tr>\n    <tr>\n      <th>19</th>\n      <td>40</td>\n      <td>M</td>\n      <td>librarian</td>\n      <td>02138</td>\n    </tr>\n    <tr>\n      <th>20</th>\n      <td>42</td>\n      <td>F</td>\n      <td>homemaker</td>\n      <td>95660</td>\n    </tr>\n    <tr>\n      <th>21</th>\n      <td>26</td>\n      <td>M</td>\n      <td>writer</td>\n      <td>30068</td>\n    </tr>\n    <tr>\n      <th>22</th>\n      <td>25</td>\n      <td>M</td>\n      <td>writer</td>\n      <td>40206</td>\n    </tr>\n    <tr>\n      <th>23</th>\n      <td>30</td>\n      <td>F</td>\n      <td>artist</td>\n      <td>48197</td>\n    </tr>\n    <tr>\n      <th>24</th>\n      <td>21</td>\n      <td>F</td>\n      <td>artist</td>\n      <td>94533</td>\n    </tr>\n    <tr>\n      <th>25</th>\n      <td>39</td>\n      <td>M</td>\n      <td>engineer</td>\n      <td>55107</td>\n    </tr>\n  </tbody>\n</table>\n</div>"
     },
     "metadata": {},
     "execution_count": 5
    }
   ],
   "source": [
    "users.head(25)"
   ]
  },
  {
   "cell_type": "code",
   "execution_count": 6,
   "metadata": {
    "scrolled": true
   },
   "outputs": [
    {
     "output_type": "execute_result",
     "data": {
      "text/plain": "         age gender     occupation zip_code\nuser_id                                    \n1         24      M     technician    85711\n2         53      F          other    94043\n3         23      M         writer    32067\n4         24      M     technician    43537\n5         33      F          other    15213\n6         42      M      executive    98101\n7         57      M  administrator    91344\n8         36      M  administrator    05201\n9         29      M        student    01002\n10        53      M         lawyer    90703\n11        39      F          other    30329\n12        28      F          other    06405\n13        47      M       educator    29206\n14        45      M      scientist    55106\n15        49      F       educator    97301\n16        21      M  entertainment    10309\n17        30      M     programmer    06355\n18        35      F          other    37212\n19        40      M      librarian    02138\n20        42      F      homemaker    95660\n21        26      M         writer    30068\n22        25      M         writer    40206\n23        30      F         artist    48197\n24        21      F         artist    94533\n25        39      M       engineer    55107",
      "text/html": "<div>\n<style scoped>\n    .dataframe tbody tr th:only-of-type {\n        vertical-align: middle;\n    }\n\n    .dataframe tbody tr th {\n        vertical-align: top;\n    }\n\n    .dataframe thead th {\n        text-align: right;\n    }\n</style>\n<table border=\"1\" class=\"dataframe\">\n  <thead>\n    <tr style=\"text-align: right;\">\n      <th></th>\n      <th>age</th>\n      <th>gender</th>\n      <th>occupation</th>\n      <th>zip_code</th>\n    </tr>\n    <tr>\n      <th>user_id</th>\n      <th></th>\n      <th></th>\n      <th></th>\n      <th></th>\n    </tr>\n  </thead>\n  <tbody>\n    <tr>\n      <th>1</th>\n      <td>24</td>\n      <td>M</td>\n      <td>technician</td>\n      <td>85711</td>\n    </tr>\n    <tr>\n      <th>2</th>\n      <td>53</td>\n      <td>F</td>\n      <td>other</td>\n      <td>94043</td>\n    </tr>\n    <tr>\n      <th>3</th>\n      <td>23</td>\n      <td>M</td>\n      <td>writer</td>\n      <td>32067</td>\n    </tr>\n    <tr>\n      <th>4</th>\n      <td>24</td>\n      <td>M</td>\n      <td>technician</td>\n      <td>43537</td>\n    </tr>\n    <tr>\n      <th>5</th>\n      <td>33</td>\n      <td>F</td>\n      <td>other</td>\n      <td>15213</td>\n    </tr>\n    <tr>\n      <th>6</th>\n      <td>42</td>\n      <td>M</td>\n      <td>executive</td>\n      <td>98101</td>\n    </tr>\n    <tr>\n      <th>7</th>\n      <td>57</td>\n      <td>M</td>\n      <td>administrator</td>\n      <td>91344</td>\n    </tr>\n    <tr>\n      <th>8</th>\n      <td>36</td>\n      <td>M</td>\n      <td>administrator</td>\n      <td>05201</td>\n    </tr>\n    <tr>\n      <th>9</th>\n      <td>29</td>\n      <td>M</td>\n      <td>student</td>\n      <td>01002</td>\n    </tr>\n    <tr>\n      <th>10</th>\n      <td>53</td>\n      <td>M</td>\n      <td>lawyer</td>\n      <td>90703</td>\n    </tr>\n    <tr>\n      <th>11</th>\n      <td>39</td>\n      <td>F</td>\n      <td>other</td>\n      <td>30329</td>\n    </tr>\n    <tr>\n      <th>12</th>\n      <td>28</td>\n      <td>F</td>\n      <td>other</td>\n      <td>06405</td>\n    </tr>\n    <tr>\n      <th>13</th>\n      <td>47</td>\n      <td>M</td>\n      <td>educator</td>\n      <td>29206</td>\n    </tr>\n    <tr>\n      <th>14</th>\n      <td>45</td>\n      <td>M</td>\n      <td>scientist</td>\n      <td>55106</td>\n    </tr>\n    <tr>\n      <th>15</th>\n      <td>49</td>\n      <td>F</td>\n      <td>educator</td>\n      <td>97301</td>\n    </tr>\n    <tr>\n      <th>16</th>\n      <td>21</td>\n      <td>M</td>\n      <td>entertainment</td>\n      <td>10309</td>\n    </tr>\n    <tr>\n      <th>17</th>\n      <td>30</td>\n      <td>M</td>\n      <td>programmer</td>\n      <td>06355</td>\n    </tr>\n    <tr>\n      <th>18</th>\n      <td>35</td>\n      <td>F</td>\n      <td>other</td>\n      <td>37212</td>\n    </tr>\n    <tr>\n      <th>19</th>\n      <td>40</td>\n      <td>M</td>\n      <td>librarian</td>\n      <td>02138</td>\n    </tr>\n    <tr>\n      <th>20</th>\n      <td>42</td>\n      <td>F</td>\n      <td>homemaker</td>\n      <td>95660</td>\n    </tr>\n    <tr>\n      <th>21</th>\n      <td>26</td>\n      <td>M</td>\n      <td>writer</td>\n      <td>30068</td>\n    </tr>\n    <tr>\n      <th>22</th>\n      <td>25</td>\n      <td>M</td>\n      <td>writer</td>\n      <td>40206</td>\n    </tr>\n    <tr>\n      <th>23</th>\n      <td>30</td>\n      <td>F</td>\n      <td>artist</td>\n      <td>48197</td>\n    </tr>\n    <tr>\n      <th>24</th>\n      <td>21</td>\n      <td>F</td>\n      <td>artist</td>\n      <td>94533</td>\n    </tr>\n    <tr>\n      <th>25</th>\n      <td>39</td>\n      <td>M</td>\n      <td>engineer</td>\n      <td>55107</td>\n    </tr>\n  </tbody>\n</table>\n</div>"
     },
     "metadata": {},
     "execution_count": 6
    }
   ],
   "source": [
    "# Otra manera\n",
    "users.iloc[:25, : ]"
   ]
  },
  {
   "cell_type": "code",
   "execution_count": 7,
   "metadata": {},
   "outputs": [
    {
     "output_type": "execute_result",
     "data": {
      "text/plain": "         age gender  occupation zip_code\nuser_id                                 \n1         24      M  technician    85711\n2         53      F       other    94043\n3         23      M      writer    32067\n4         24      M  technician    43537\n5         33      F       other    15213\n...      ...    ...         ...      ...\n929       44      M   scientist    53711\n930       28      F   scientist    07310\n931       60      M    educator    33556\n932       58      M    educator    06437\n933       28      M     student    48105\n\n[933 rows x 4 columns]",
      "text/html": "<div>\n<style scoped>\n    .dataframe tbody tr th:only-of-type {\n        vertical-align: middle;\n    }\n\n    .dataframe tbody tr th {\n        vertical-align: top;\n    }\n\n    .dataframe thead th {\n        text-align: right;\n    }\n</style>\n<table border=\"1\" class=\"dataframe\">\n  <thead>\n    <tr style=\"text-align: right;\">\n      <th></th>\n      <th>age</th>\n      <th>gender</th>\n      <th>occupation</th>\n      <th>zip_code</th>\n    </tr>\n    <tr>\n      <th>user_id</th>\n      <th></th>\n      <th></th>\n      <th></th>\n      <th></th>\n    </tr>\n  </thead>\n  <tbody>\n    <tr>\n      <th>1</th>\n      <td>24</td>\n      <td>M</td>\n      <td>technician</td>\n      <td>85711</td>\n    </tr>\n    <tr>\n      <th>2</th>\n      <td>53</td>\n      <td>F</td>\n      <td>other</td>\n      <td>94043</td>\n    </tr>\n    <tr>\n      <th>3</th>\n      <td>23</td>\n      <td>M</td>\n      <td>writer</td>\n      <td>32067</td>\n    </tr>\n    <tr>\n      <th>4</th>\n      <td>24</td>\n      <td>M</td>\n      <td>technician</td>\n      <td>43537</td>\n    </tr>\n    <tr>\n      <th>5</th>\n      <td>33</td>\n      <td>F</td>\n      <td>other</td>\n      <td>15213</td>\n    </tr>\n    <tr>\n      <th>...</th>\n      <td>...</td>\n      <td>...</td>\n      <td>...</td>\n      <td>...</td>\n    </tr>\n    <tr>\n      <th>929</th>\n      <td>44</td>\n      <td>M</td>\n      <td>scientist</td>\n      <td>53711</td>\n    </tr>\n    <tr>\n      <th>930</th>\n      <td>28</td>\n      <td>F</td>\n      <td>scientist</td>\n      <td>07310</td>\n    </tr>\n    <tr>\n      <th>931</th>\n      <td>60</td>\n      <td>M</td>\n      <td>educator</td>\n      <td>33556</td>\n    </tr>\n    <tr>\n      <th>932</th>\n      <td>58</td>\n      <td>M</td>\n      <td>educator</td>\n      <td>06437</td>\n    </tr>\n    <tr>\n      <th>933</th>\n      <td>28</td>\n      <td>M</td>\n      <td>student</td>\n      <td>48105</td>\n    </tr>\n  </tbody>\n</table>\n<p>933 rows × 4 columns</p>\n</div>"
     },
     "metadata": {},
     "execution_count": 7
    }
   ],
   "source": [
    "users.iloc[:-10, : ]"
   ]
  },
  {
   "cell_type": "markdown",
   "metadata": {},
   "source": [
    "### Step 5. See the last 10 entries"
   ]
  },
  {
   "cell_type": "code",
   "execution_count": 8,
   "metadata": {
    "scrolled": true
   },
   "outputs": [
    {
     "output_type": "execute_result",
     "data": {
      "text/plain": "         age gender     occupation zip_code\nuser_id                                    \n934       61      M       engineer    22902\n935       42      M         doctor    66221\n936       24      M          other    32789\n937       48      M       educator    98072\n938       38      F     technician    55038\n939       26      F        student    33319\n940       32      M  administrator    02215\n941       20      M        student    97229\n942       48      F      librarian    78209\n943       22      M        student    77841",
      "text/html": "<div>\n<style scoped>\n    .dataframe tbody tr th:only-of-type {\n        vertical-align: middle;\n    }\n\n    .dataframe tbody tr th {\n        vertical-align: top;\n    }\n\n    .dataframe thead th {\n        text-align: right;\n    }\n</style>\n<table border=\"1\" class=\"dataframe\">\n  <thead>\n    <tr style=\"text-align: right;\">\n      <th></th>\n      <th>age</th>\n      <th>gender</th>\n      <th>occupation</th>\n      <th>zip_code</th>\n    </tr>\n    <tr>\n      <th>user_id</th>\n      <th></th>\n      <th></th>\n      <th></th>\n      <th></th>\n    </tr>\n  </thead>\n  <tbody>\n    <tr>\n      <th>934</th>\n      <td>61</td>\n      <td>M</td>\n      <td>engineer</td>\n      <td>22902</td>\n    </tr>\n    <tr>\n      <th>935</th>\n      <td>42</td>\n      <td>M</td>\n      <td>doctor</td>\n      <td>66221</td>\n    </tr>\n    <tr>\n      <th>936</th>\n      <td>24</td>\n      <td>M</td>\n      <td>other</td>\n      <td>32789</td>\n    </tr>\n    <tr>\n      <th>937</th>\n      <td>48</td>\n      <td>M</td>\n      <td>educator</td>\n      <td>98072</td>\n    </tr>\n    <tr>\n      <th>938</th>\n      <td>38</td>\n      <td>F</td>\n      <td>technician</td>\n      <td>55038</td>\n    </tr>\n    <tr>\n      <th>939</th>\n      <td>26</td>\n      <td>F</td>\n      <td>student</td>\n      <td>33319</td>\n    </tr>\n    <tr>\n      <th>940</th>\n      <td>32</td>\n      <td>M</td>\n      <td>administrator</td>\n      <td>02215</td>\n    </tr>\n    <tr>\n      <th>941</th>\n      <td>20</td>\n      <td>M</td>\n      <td>student</td>\n      <td>97229</td>\n    </tr>\n    <tr>\n      <th>942</th>\n      <td>48</td>\n      <td>F</td>\n      <td>librarian</td>\n      <td>78209</td>\n    </tr>\n    <tr>\n      <th>943</th>\n      <td>22</td>\n      <td>M</td>\n      <td>student</td>\n      <td>77841</td>\n    </tr>\n  </tbody>\n</table>\n</div>"
     },
     "metadata": {},
     "execution_count": 8
    }
   ],
   "source": [
    "users.tail(10)"
   ]
  },
  {
   "cell_type": "markdown",
   "metadata": {},
   "source": [
    "### Step 6. What is the number of observations in the dataset?"
   ]
  },
  {
   "cell_type": "code",
   "execution_count": 9,
   "metadata": {},
   "outputs": [
    {
     "output_type": "execute_result",
     "data": {
      "text/plain": "943"
     },
     "metadata": {},
     "execution_count": 9
    }
   ],
   "source": [
    "users.gender.count()"
   ]
  },
  {
   "cell_type": "markdown",
   "metadata": {},
   "source": [
    "### Step 7. What is the number of columns in the dataset?"
   ]
  },
  {
   "cell_type": "code",
   "execution_count": 10,
   "metadata": {},
   "outputs": [
    {
     "output_type": "execute_result",
     "data": {
      "text/plain": "943"
     },
     "metadata": {},
     "execution_count": 10
    }
   ],
   "source": [
    "users.shape[0]"
   ]
  },
  {
   "cell_type": "code",
   "execution_count": 11,
   "metadata": {},
   "outputs": [
    {
     "output_type": "execute_result",
     "data": {
      "text/plain": "4"
     },
     "metadata": {},
     "execution_count": 11
    }
   ],
   "source": [
    "len(users.columns)"
   ]
  },
  {
   "cell_type": "markdown",
   "metadata": {},
   "source": [
    "### Step 8. Print the name of all the columns."
   ]
  },
  {
   "cell_type": "code",
   "execution_count": 12,
   "metadata": {},
   "outputs": [
    {
     "output_type": "execute_result",
     "data": {
      "text/plain": "Index(['age', 'gender', 'occupation', 'zip_code'], dtype='object')"
     },
     "metadata": {},
     "execution_count": 12
    }
   ],
   "source": [
    "users.columns"
   ]
  },
  {
   "cell_type": "markdown",
   "metadata": {},
   "source": [
    "### Step 9. How is the dataset indexed?"
   ]
  },
  {
   "cell_type": "code",
   "execution_count": 13,
   "metadata": {},
   "outputs": [
    {
     "output_type": "execute_result",
     "data": {
      "text/plain": "Int64Index([  1,   2,   3,   4,   5,   6,   7,   8,   9,  10,\n            ...\n            934, 935, 936, 937, 938, 939, 940, 941, 942, 943],\n           dtype='int64', name='user_id', length=943)"
     },
     "metadata": {},
     "execution_count": 13
    }
   ],
   "source": [
    "# \"the index\" (aka \"the labels\")\n",
    "users.index"
   ]
  },
  {
   "cell_type": "markdown",
   "metadata": {},
   "source": [
    "### Step 10. What is the data type of each column?"
   ]
  },
  {
   "cell_type": "code",
   "execution_count": 14,
   "metadata": {},
   "outputs": [
    {
     "output_type": "execute_result",
     "data": {
      "text/plain": "age            int64\ngender        object\noccupation    object\nzip_code      object\ndtype: object"
     },
     "metadata": {},
     "execution_count": 14
    }
   ],
   "source": [
    "users.dtypes"
   ]
  },
  {
   "cell_type": "markdown",
   "metadata": {},
   "source": [
    "### Step 11. Print only the occupation column"
   ]
  },
  {
   "cell_type": "code",
   "execution_count": 15,
   "metadata": {},
   "outputs": [
    {
     "output_type": "execute_result",
     "data": {
      "text/plain": "user_id\n1         technician\n2              other\n3             writer\n4         technician\n5              other\n           ...      \n939          student\n940    administrator\n941          student\n942        librarian\n943          student\nName: occupation, Length: 943, dtype: object"
     },
     "metadata": {},
     "execution_count": 15
    }
   ],
   "source": [
    "users.occupation"
   ]
  },
  {
   "cell_type": "markdown",
   "metadata": {},
   "source": [
    "### Step 12. How many different occupations are in this dataset?"
   ]
  },
  {
   "cell_type": "code",
   "execution_count": 16,
   "metadata": {},
   "outputs": [
    {
     "output_type": "execute_result",
     "data": {
      "text/plain": "21"
     },
     "metadata": {},
     "execution_count": 16
    }
   ],
   "source": [
    "len(set(users.occupation))"
   ]
  },
  {
   "cell_type": "markdown",
   "metadata": {},
   "source": [
    "### Step 13. What is the most frequent occupation?"
   ]
  },
  {
   "cell_type": "code",
   "execution_count": 17,
   "metadata": {},
   "outputs": [
    {
     "output_type": "execute_result",
     "data": {
      "text/plain": "'student'"
     },
     "metadata": {},
     "execution_count": 17
    }
   ],
   "source": [
    "users['occupation'].value_counts().idxmax()"
   ]
  },
  {
   "cell_type": "markdown",
   "metadata": {},
   "source": [
    "### Step 14. Summarize the DataFrame."
   ]
  },
  {
   "cell_type": "code",
   "execution_count": 18,
   "metadata": {},
   "outputs": [
    {
     "output_type": "execute_result",
     "data": {
      "text/plain": "<bound method NDFrame.describe of          age gender     occupation zip_code\nuser_id                                    \n1         24      M     technician    85711\n2         53      F          other    94043\n3         23      M         writer    32067\n4         24      M     technician    43537\n5         33      F          other    15213\n...      ...    ...            ...      ...\n939       26      F        student    33319\n940       32      M  administrator    02215\n941       20      M        student    97229\n942       48      F      librarian    78209\n943       22      M        student    77841\n\n[943 rows x 4 columns]>"
     },
     "metadata": {},
     "execution_count": 18
    }
   ],
   "source": [
    "users.describe"
   ]
  },
  {
   "cell_type": "markdown",
   "metadata": {},
   "source": [
    "### Step 15. Summarize all the columns"
   ]
  },
  {
   "cell_type": "code",
   "execution_count": 19,
   "metadata": {},
   "outputs": [
    {
     "output_type": "execute_result",
     "data": {
      "text/plain": "<bound method NDFrame.describe of user_id\n1      24\n2      53\n3      23\n4      24\n5      33\n       ..\n939    26\n940    32\n941    20\n942    48\n943    22\nName: age, Length: 943, dtype: int64>"
     },
     "metadata": {},
     "execution_count": 19
    }
   ],
   "source": [
    "users.age.describe"
   ]
  },
  {
   "cell_type": "code",
   "execution_count": 20,
   "metadata": {},
   "outputs": [
    {
     "output_type": "execute_result",
     "data": {
      "text/plain": "<bound method NDFrame.describe of user_id\n1      M\n2      F\n3      M\n4      M\n5      F\n      ..\n939    F\n940    M\n941    M\n942    F\n943    M\nName: gender, Length: 943, dtype: object>"
     },
     "metadata": {},
     "execution_count": 20
    }
   ],
   "source": [
    "users.gender.describe"
   ]
  },
  {
   "cell_type": "code",
   "execution_count": 21,
   "metadata": {},
   "outputs": [
    {
     "output_type": "execute_result",
     "data": {
      "text/plain": "<bound method NDFrame.describe of user_id\n1         technician\n2              other\n3             writer\n4         technician\n5              other\n           ...      \n939          student\n940    administrator\n941          student\n942        librarian\n943          student\nName: occupation, Length: 943, dtype: object>"
     },
     "metadata": {},
     "execution_count": 21
    }
   ],
   "source": [
    "users.occupation.describe"
   ]
  },
  {
   "cell_type": "code",
   "execution_count": 22,
   "metadata": {},
   "outputs": [
    {
     "output_type": "execute_result",
     "data": {
      "text/plain": "<bound method NDFrame.describe of user_id\n1      85711\n2      94043\n3      32067\n4      43537\n5      15213\n       ...  \n939    33319\n940    02215\n941    97229\n942    78209\n943    77841\nName: zip_code, Length: 943, dtype: object>"
     },
     "metadata": {},
     "execution_count": 22
    }
   ],
   "source": [
    "users.zip_code.describe"
   ]
  },
  {
   "cell_type": "code",
   "execution_count": 52,
   "metadata": {
    "scrolled": true
   },
   "outputs": [
    {
     "data": {
      "text/html": [
       "<div>\n",
       "<style scoped>\n",
       "    .dataframe tbody tr th:only-of-type {\n",
       "        vertical-align: middle;\n",
       "    }\n",
       "\n",
       "    .dataframe tbody tr th {\n",
       "        vertical-align: top;\n",
       "    }\n",
       "\n",
       "    .dataframe thead th {\n",
       "        text-align: right;\n",
       "    }\n",
       "</style>\n",
       "<table border=\"1\" class=\"dataframe\">\n",
       "  <thead>\n",
       "    <tr style=\"text-align: right;\">\n",
       "      <th></th>\n",
       "      <th>age</th>\n",
       "      <th>gender</th>\n",
       "      <th>occupation</th>\n",
       "      <th>zip_code</th>\n",
       "    </tr>\n",
       "  </thead>\n",
       "  <tbody>\n",
       "    <tr>\n",
       "      <th>count</th>\n",
       "      <td>943.000000</td>\n",
       "      <td>943</td>\n",
       "      <td>943</td>\n",
       "      <td>943</td>\n",
       "    </tr>\n",
       "    <tr>\n",
       "      <th>unique</th>\n",
       "      <td>NaN</td>\n",
       "      <td>2</td>\n",
       "      <td>21</td>\n",
       "      <td>795</td>\n",
       "    </tr>\n",
       "    <tr>\n",
       "      <th>top</th>\n",
       "      <td>NaN</td>\n",
       "      <td>M</td>\n",
       "      <td>student</td>\n",
       "      <td>55414</td>\n",
       "    </tr>\n",
       "    <tr>\n",
       "      <th>freq</th>\n",
       "      <td>NaN</td>\n",
       "      <td>670</td>\n",
       "      <td>196</td>\n",
       "      <td>9</td>\n",
       "    </tr>\n",
       "    <tr>\n",
       "      <th>mean</th>\n",
       "      <td>34.051962</td>\n",
       "      <td>NaN</td>\n",
       "      <td>NaN</td>\n",
       "      <td>NaN</td>\n",
       "    </tr>\n",
       "    <tr>\n",
       "      <th>std</th>\n",
       "      <td>12.192740</td>\n",
       "      <td>NaN</td>\n",
       "      <td>NaN</td>\n",
       "      <td>NaN</td>\n",
       "    </tr>\n",
       "    <tr>\n",
       "      <th>min</th>\n",
       "      <td>7.000000</td>\n",
       "      <td>NaN</td>\n",
       "      <td>NaN</td>\n",
       "      <td>NaN</td>\n",
       "    </tr>\n",
       "    <tr>\n",
       "      <th>25%</th>\n",
       "      <td>25.000000</td>\n",
       "      <td>NaN</td>\n",
       "      <td>NaN</td>\n",
       "      <td>NaN</td>\n",
       "    </tr>\n",
       "    <tr>\n",
       "      <th>50%</th>\n",
       "      <td>31.000000</td>\n",
       "      <td>NaN</td>\n",
       "      <td>NaN</td>\n",
       "      <td>NaN</td>\n",
       "    </tr>\n",
       "    <tr>\n",
       "      <th>75%</th>\n",
       "      <td>43.000000</td>\n",
       "      <td>NaN</td>\n",
       "      <td>NaN</td>\n",
       "      <td>NaN</td>\n",
       "    </tr>\n",
       "    <tr>\n",
       "      <th>max</th>\n",
       "      <td>73.000000</td>\n",
       "      <td>NaN</td>\n",
       "      <td>NaN</td>\n",
       "      <td>NaN</td>\n",
       "    </tr>\n",
       "  </tbody>\n",
       "</table>\n",
       "</div>"
      ],
      "text/plain": [
       "               age gender occupation zip_code\n",
       "count   943.000000    943        943      943\n",
       "unique         NaN      2         21      795\n",
       "top            NaN      M    student    55414\n",
       "freq           NaN    670        196        9\n",
       "mean     34.051962    NaN        NaN      NaN\n",
       "std      12.192740    NaN        NaN      NaN\n",
       "min       7.000000    NaN        NaN      NaN\n",
       "25%      25.000000    NaN        NaN      NaN\n",
       "50%      31.000000    NaN        NaN      NaN\n",
       "75%      43.000000    NaN        NaN      NaN\n",
       "max      73.000000    NaN        NaN      NaN"
      ]
     },
     "execution_count": 52,
     "metadata": {},
     "output_type": "execute_result"
    }
   ],
   "source": []
  },
  {
   "cell_type": "markdown",
   "metadata": {},
   "source": [
    "### Step 16. Summarize only the occupation column"
   ]
  },
  {
   "cell_type": "code",
   "execution_count": 28,
   "metadata": {},
   "outputs": [
    {
     "output_type": "execute_result",
     "data": {
      "text/plain": "<bound method NDFrame.describe of user_id\n1         technician\n2              other\n3             writer\n4         technician\n5              other\n           ...      \n939          student\n940    administrator\n941          student\n942        librarian\n943          student\nName: occupation, Length: 943, dtype: object>"
     },
     "metadata": {},
     "execution_count": 28
    }
   ],
   "source": [
    "users.occupation.describe"
   ]
  },
  {
   "cell_type": "markdown",
   "metadata": {},
   "source": [
    "### Step 17. What is the mean age of users?"
   ]
  },
  {
   "cell_type": "code",
   "execution_count": 29,
   "metadata": {},
   "outputs": [
    {
     "output_type": "execute_result",
     "data": {
      "text/plain": "34.05"
     },
     "metadata": {},
     "execution_count": 29
    }
   ],
   "source": [
    "users.age.mean().round(2)"
   ]
  },
  {
   "cell_type": "markdown",
   "metadata": {},
   "source": [
    "### Step 18. What is the age with least occurrence?"
   ]
  },
  {
   "cell_type": "code",
   "execution_count": 31,
   "metadata": {},
   "outputs": [
    {
     "output_type": "execute_result",
     "data": {
      "text/plain": "user_id\n30      7\n471    10\n289    11\n880    13\n609    13\n       ..\n585    69\n767    70\n803    70\n860    70\n481    73\nName: age, Length: 943, dtype: int64"
     },
     "metadata": {},
     "execution_count": 31
    }
   ],
   "source": [
    "users.age.sort_values()"
   ]
  },
  {
   "cell_type": "code",
   "execution_count": null,
   "metadata": {},
   "outputs": [],
   "source": []
  }
 ],
 "metadata": {
  "anaconda-cloud": {},
  "kernelspec": {
   "display_name": "Python 3",
   "language": "python",
   "name": "python3"
  },
  "language_info": {
   "codemirror_mode": {
    "name": "ipython",
    "version": 3
   },
   "file_extension": ".py",
   "mimetype": "text/x-python",
   "name": "python",
   "nbconvert_exporter": "python",
   "pygments_lexer": "ipython3",
   "version": "3.7.3"
  }
 },
 "nbformat": 4,
 "nbformat_minor": 1
}