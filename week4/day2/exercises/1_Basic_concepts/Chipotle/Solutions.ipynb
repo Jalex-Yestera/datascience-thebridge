{
 "cells": [
  {
   "cell_type": "markdown",
   "metadata": {},
   "source": [
    "# Ex2 - Getting and Knowing your Data"
   ]
  },
  {
   "cell_type": "markdown",
   "metadata": {},
   "source": [
    "\n",
    "\n",
    "### Step 1. Import the necessary libraries"
   ]
  },
  {
   "cell_type": "code",
   "execution_count": 5,
   "metadata": {
    "collapsed": false
   },
   "outputs": [],
   "source": [
    "import pandas as pd\n",
    "import numpy as np"
   ]
  },
  {
   "cell_type": "markdown",
   "metadata": {},
   "source": [
    "### Step 2. Import the dataset from this [address](https://raw.githubusercontent.com/justmarkham/DAT8/master/data/chipotle.tsv). "
   ]
  },
  {
   "cell_type": "code",
   "execution_count": 6,
   "metadata": {
    "tags": []
   },
   "outputs": [],
   "source": [
    "import requests \n",
    "url=\"https://raw.githubusercontent.com/justmarkham/DAT8/master/data/chipotle.tsv\"\n",
    "\n"
   ]
  },
  {
   "cell_type": "markdown",
   "metadata": {},
   "source": [
    "### Step 3. Assign it to a variable called chipo."
   ]
  },
  {
   "cell_type": "code",
   "execution_count": 7,
   "metadata": {
    "collapsed": false,
    "tags": [
     "outputPrepend"
    ]
   },
   "outputs": [
    {
     "output_type": "stream",
     "name": "stdout",
     "text": "sa, [Rice, Cheese, Sour Cream, Lettuce]]\\t$8.75 \\n1745\\t1\\tChips and Guacamole\\tNULL\\t$4.45 \\n1745\\t1\\tChicken Crispy Tacos\\t[Fresh Tomato Salsa, [Fajita Vegetables, Rice, Cheese, Sour Cream, Guacamole, Lettuce]]\\t$11.25 \\n1745\\t1\\tChips and Guacamole\\tNULL\\t$4.45 \\n1746\\t1\\tChicken Burrito\\t[Roasted Chili Corn Salsa, [Rice, Black Beans, Cheese, Sour Cream, Lettuce]]\\t$8.75 \\n1746\\t1\\tCarnitas Bowl\\t[Roasted Chili Corn Salsa, [Fajita Vegetables, Rice, Black Beans, Cheese]]\\t$9.25 \\n1746\\t1\\tChips and Guacamole\\tNULL\\t$4.45 \\n1746\\t1\\tCanned Soft Drink\\t[Lemonade]\\t$1.25 \\n1746\\t1\\tCanned Soft Drink\\t[Sprite]\\t$1.25 \\n1747\\t1\\tChicken Bowl\\t[Tomatillo Green Chili Salsa, [Fajita Vegetables, Black Beans, Sour Cream, Lettuce]]\\t$8.75 \\n1747\\t1\\tChicken Burrito\\t[Tomatillo Green Chili Salsa, [Rice, Pinto Beans, Cheese, Sour Cream, Guacamole, Lettuce]]\\t$11.25 \\n1748\\t1\\tBarbacoa Bowl\\t[Fresh Tomato Salsa, [Fajita Vegetables, Rice, Black Beans, Cheese, Guacamole, Lettuce]]\\t$11.75 \\n1748\\t1\\tChips\\tNULL\\t$2.15 \\n1748\\t1\\tSteak Burrito\\t[Fresh Tomato Salsa, [Fajita Vegetables, Rice, Black Beans, Pinto Beans, Cheese, Sour Cream, Guacamole, Lettuce]]\\t$11.75 \\n1749\\t1\\tChips and Guacamole\\tNULL\\t$4.45 \\n1749\\t1\\tSteak Burrito\\t[Fresh Tomato Salsa, [Rice, Pinto Beans, Cheese, Sour Cream, Guacamole, Lettuce]]\\t$11.75 \\n1749\\t1\\tCanned Soft Drink\\t[Coke]\\t$1.25 \\n1750\\t1\\tCarnitas Burrito\\t[Roasted Chili Corn Salsa, [Rice, Pinto Beans, Guacamole, Lettuce]]\\t$11.75 \\n1750\\t1\\tSteak Bowl\\t[Fresh Tomato Salsa, [Fajita Vegetables, Rice, Pinto Beans, Cheese, Sour Cream, Guacamole, Lettuce]]\\t$11.75 \\n1751\\t1\\tChicken Salad Bowl\\t[Fresh Tomato Salsa, [Fajita Vegetables, Rice, Cheese, Sour Cream, Guacamole]]\\t$11.25 \\n1751\\t2\\tChips\\tNULL\\t$4.30 \\n1751\\t1\\tBarbacoa Salad Bowl\\t[Tomatillo Green Chili Salsa, [Fajita Vegetables, Rice, Cheese, Sour Cream, Lettuce]]\\t$9.39 \\n1752\\t1\\tSteak Salad Bowl\\t[Fresh Tomato Salsa, [Black Beans, Pinto Beans, Cheese]]\\t$9.39 \\n1752\\t1\\tChicken Bowl\\t[Fresh Tomato Salsa, [Fajita Vegetables, Rice, Black Beans, Pinto Beans, Cheese, Sour Cream]]\\t$8.75 \\n1753\\t1\\tCanned Soft Drink\\t[Coke]\\t$1.25 \\n1753\\t1\\tSteak Burrito\\t[Fresh Tomato Salsa, [Rice, Black Beans, Sour Cream, Cheese]]\\t$9.25 \\n1753\\t1\\tChips and Guacamole\\tNULL\\t$4.45 \\n1754\\t1\\tChicken Bowl\\t[Fresh Tomato Salsa, [Black Beans, Rice, Sour Cream, Cheese, Guacamole, Lettuce]]\\t$11.25 \\n1754\\t1\\tCanned Soft Drink\\t[Sprite]\\t$1.25 \\n1755\\t1\\tChicken Bowl\\t[Fresh Tomato Salsa, [Rice, Black Beans, Pinto Beans, Cheese]]\\t$8.75 \\n1755\\t1\\tCanned Soft Drink\\t[Coke]\\t$1.25 \\n1755\\t1\\tChips and Tomatillo Green Chili Salsa\\tNULL\\t$2.95 \\n1756\\t1\\tChicken Bowl\\t[Fresh Tomato Salsa, [Rice, Black Beans, Pinto Beans, Cheese, Sour Cream, Guacamole]]\\t$11.25 \\n1756\\t1\\tChips and Guacamole\\tNULL\\t$4.45 \\n1757\\t1\\tChicken Burrito\\t[Fresh Tomato Salsa, [Rice, Pinto Beans, Cheese, Sour Cream, Lettuce]]\\t$8.75 \\n1757\\t1\\tBottled Water\\tNULL\\t$1.50 \\n1757\\t1\\tChips and Guacamole\\tNULL\\t$4.45 \\n1758\\t1\\tChips and Guacamole\\tNULL\\t$4.45 \\n1758\\t1\\tSteak Burrito\\t[Fresh Tomato Salsa, [Cheese, Black Beans, Rice]]\\t$9.25 \\n1759\\t1\\tChicken Bowl\\t[Fresh Tomato Salsa, [Rice, Black Beans, Cheese]]\\t$8.75 \\n1759\\t1\\tChips and Tomatillo Red Chili Salsa\\tNULL\\t$2.95 \\n1759\\t1\\tCanned Soft Drink\\t[Diet Coke]\\t$1.25 \\n1760\\t1\\tChicken Bowl\\t[Fresh Tomato Salsa, [Fajita Vegetables, Rice, Black Beans, Guacamole, Lettuce]]\\t$11.25 \\n1760\\t1\\tChips and Tomatillo Red Chili Salsa\\tNULL\\t$2.95 \\n1761\\t1\\tChicken Bowl\\t[Tomatillo Green Chili Salsa, [Rice, Pinto Beans, Sour Cream, Lettuce]]\\t$8.75 \\n1761\\t1\\tChicken Burrito\\t[Tomatillo Red Chili Salsa, [Rice, Cheese, Lettuce]]\\t$8.75 \\n1761\\t1\\tChicken Burrito\\t[Tomatillo Red Chili Salsa, [Rice, Pinto Beans, Cheese]]\\t$8.75 \\n1761\\t1\\tChicken Burrito\\t[Roasted Chili Corn Salsa, [Rice, Fajita Vegetables, Cheese]]\\t$8.75 \\n1761\\t2\\tChips\\tNULL\\t$4.30 \\n1762\\t1\\tSteak Burrito\\t[Roasted Chili Corn Salsa, [Fajita Vegetables, Rice, Pinto Beans, Cheese, Sour Cream]]\\t$9.25 \\n1762\\t1\\tSteak Salad Bowl\\t[Roasted Chili Corn Salsa, [Fajita Vegetables, Cheese, Lettuce]]\\t$9.39 \\n1763\\t1\\tChips and Guacamole\\tNULL\\t$4.45 \\n1763\\t1\\tCarnitas Burrito\\t[Fresh Tomato Salsa, [Rice, Pinto Beans, Cheese, Sour Cream]]\\t$9.25 \\n1763\\t1\\tCanned Soft Drink\\t[Coke]\\t$1.25 \\n1764\\t2\\tChicken Bowl\\t[Fresh Tomato Salsa, [Rice, Fajita Vegetables, Black Beans, Sour Cream, Cheese, Lettuce, Guacamole]]\\t$22.50 \\n1764\\t1\\tChips and Guacamole\\tNULL\\t$4.45 \\n1764\\t1\\tChips and Fresh Tomato Salsa\\tNULL\\t$2.95 \\n1764\\t1\\tChips\\tNULL\\t$2.15 \\n1764\\t2\\tSteak Bowl\\t[Fresh Tomato Salsa, [Rice, Pinto Beans, Sour Cream, Cheese, Lettuce, Guacamole]]\\t$23.50 \\n1765\\t1\\tCarnitas Bowl\\t[Fresh Tomato Salsa, [Rice, Black Beans, Cheese, Guacamole, Lettuce]]\\t$11.75 \\n1765\\t1\\tChips\\tNULL\\t$2.15 \\n1765\\t1\\tCanned Soft Drink\\t[Coke]\\t$1.25 \\n1766\\t1\\tSteak Burrito\\t[Fresh Tomato Salsa, [Rice, Pinto Beans, Cheese, Sour Cream]]\\t$9.25 \\n1766\\t1\\tChips and Guacamole\\tNULL\\t$4.45 \\n1766\\t1\\tChicken Bowl\\t[Fresh Tomato Salsa, [Rice, Black Beans, Cheese, Sour Cream, Guacamole]]\\t$11.25 \\n1766\\t1\\tSteak Burrito\\t[Tomatillo Red Chili Salsa, [Fajita Vegetables, Rice, Black Beans, Sour Cream, Guacamole]]\\t$11.75 \\n1767\\t2\\tChicken Bowl\\t[Fresh Tomato Salsa, [Rice, Pinto Beans, Cheese, Lettuce]]\\t$17.50 \\n1768\\t1\\tChicken Bowl\\t[Fresh Tomato Salsa, [Rice, Black Beans, Cheese, Sour Cream, Lettuce]]\\t$8.75 \\n1768\\t1\\tCarnitas Burrito\\t[Fresh Tomato Salsa, [Fajita Vegetables, Rice, Black Beans, Cheese, Sour Cream, Guacamole, Lettuce]]\\t$11.75 \\n1768\\t1\\tChicken Soft Tacos\\t[Fresh Tomato Salsa, [Fajita Vegetables, Black Beans, Cheese, Sour Cream, Guacamole]]\\t$11.25 \\n1769\\t1\\tChicken Salad Bowl\\t[Fresh Tomato Salsa, [Rice, Black Beans, Cheese, Sour Cream, Lettuce]]\\t$8.75 \\n1769\\t1\\tChips and Guacamole\\tNULL\\t$4.45 \\n1770\\t1\\tBarbacoa Bowl\\t[Tomatillo Green Chili Salsa, [Rice, Cheese, Guacamole, Lettuce]]\\t$11.75 \\n1770\\t1\\tBottled Water\\tNULL\\t$1.50 \\n1771\\t1\\tChicken Bowl\\t[Tomatillo Green Chili Salsa, [Rice, Pinto Beans, Cheese, Sour Cream, Lettuce]]\\t$8.75 \\n1771\\t1\\tChicken Bowl\\t[Fresh Tomato Salsa, [Rice, Black Beans, Sour Cream]]\\t$8.75 \\n1772\\t1\\tSteak Burrito\\t[Tomatillo Red Chili Salsa, [Rice, Fajita Vegetables, Cheese, Lettuce, Guacamole]]\\t$11.75 \\n1772\\t1\\tSteak Burrito\\t[Tomatillo Red Chili Salsa, [Rice, Black Beans, Cheese]]\\t$9.25 \\n1772\\t1\\tChicken Burrito\\t[Fresh Tomato Salsa, [Rice, Sour Cream, Cheese, Lettuce, Guacamole]]\\t$11.25 \\n1773\\t1\\tChips and Guacamole\\tNULL\\t$4.45 \\n1773\\t1\\tSteak Bowl\\t[Roasted Chili Corn Salsa, [Rice, Black Beans, Cheese, Guacamole, Lettuce]]\\t$11.75 \\n1774\\t1\\tCarnitas Crispy Tacos\\t[Fresh Tomato Salsa, [Pinto Beans, Sour Cream, Cheese, Lettuce]]\\t$9.25 \\n1774\\t1\\tChips and Guacamole\\tNULL\\t$4.45 \\n1775\\t1\\tVeggie Bowl\\t[Fresh Tomato Salsa, [Fajita Vegetables, Black Beans, Cheese, Guacamole, Lettuce]]\\t$11.25 \\n1775\\t1\\tChicken Crispy Tacos\\t[Tomatillo Red Chili Salsa, [Black Beans, Cheese]]\\t$8.75 \\n1775\\t1\\tChicken Burrito\\t[Tomatillo Red Chili Salsa, [Rice, Pinto Beans, Cheese]]\\t$8.75 \\n1776\\t1\\tChips\\tNULL\\t$2.15 \\n1776\\t1\\tBottled Water\\tNULL\\t$1.50 \\n1776\\t1\\tChicken Burrito\\t[Fresh Tomato Salsa, [Fajita Vegetables, Rice]]\\t$8.75 \\n1777\\t1\\tChips and Guacamole\\tNULL\\t$4.45 \\n1777\\t1\\tSteak Bowl\\t[Fresh Tomato Salsa, [Fajita Vegetables, Rice, Cheese, Lettuce]]\\t$9.25 \\n1778\\t1\\tChicken Burrito\\t[Tomatillo Red Chili Salsa, [Rice, Cheese]]\\t$8.75 \\n1778\\t1\\tBottled Water\\tNULL\\t$1.50 \\n1778\\t1\\tCanned Soft Drink\\t[Lemonade]\\t$1.25 \\n1778\\t1\\tCanned Soft Drink\\t[Lemonade]\\t$1.25 \\n1779\\t1\\tCanned Soft Drink\\t[Diet Coke]\\t$1.25 \\n1779\\t1\\tChicken Bowl\\t[Fresh Tomato Salsa, [Rice, Black Beans, Cheese]]\\t$8.75 \\n1779\\t1\\tChips and Tomatillo Red Chili Salsa\\tNULL\\t$2.95 \\n1780\\t1\\tChicken Salad Bowl\\t[Fresh Tomato Salsa, [Fajita Vegetables, Black Beans, Cheese, Sour Cream, Guacamole, Lettuce]]\\t$11.25 \\n1780\\t1\\tVeggie Bowl\\t[Fresh Tomato Salsa, [Fajita Vegetables, Rice, Cheese, Sour Cream, Guacamole, Lettuce]]\\t$11.25 \\n1781\\t1\\tBottled Water\\tNULL\\t$1.50 \\n1781\\t1\\tSteak Bowl\\t[Fresh Tomato Salsa, [Rice, Black Beans, Pinto Beans, Cheese, Sour Cream, Guacamole, Lettuce]]\\t$11.75 \\n1782\\t1\\tVeggie Burrito\\t[Roasted Chili Corn Salsa, [Rice, Black Beans, Cheese, Sour Cream, Guacamole, Lettuce]]\\t$11.25 \\n1782\\t1\\tChips\\tNULL\\t$2.15 \\n1783\\t1\\tSteak Burrito\\t[Tomatillo Green Chili Salsa, [Rice, Fajita Vegetables, Sour Cream, Cheese, Lettuce]]\\t$9.25 \\n1783\\t1\\tChicken Soft Tacos\\t[Roasted Chili Corn Salsa, [Rice, Fajita Vegetables, Sour Cream, Cheese, Lettuce]]\\t$8.75 \\n1784\\t1\\tCarnitas Bowl\\t[Fresh Tomato Salsa, [Rice, Cheese, Sour Cream, Guacamole, Lettuce]]\\t$11.75 \\n1784\\t1\\tChips and Tomatillo Green Chili Salsa\\tNULL\\t$2.95 \\n1785\\t1\\tBottled Water\\tNULL\\t$1.50 \\n1785\\t1\\tChicken Burrito\\t[Fresh Tomato Salsa, [Fajita Vegetables, Rice]]\\t$8.75 \\n1785\\t1\\tBottled Water\\tNULL\\t$1.50 \\n1785\\t1\\tCanned Soft Drink\\t[Diet Coke]\\t$1.25 \\n1786\\t1\\tChicken Bowl\\t[Fresh Tomato Salsa, Rice]\\t$8.75 \\n1786\\t1\\tCarnitas Burrito\\t[Fresh Tomato Salsa, [Fajita Vegetables, Rice, Pinto Beans, Cheese, Sour Cream, Guacamole, Lettuce]]\\t$11.75 \\n1786\\t1\\tChicken Bowl\\t[Fresh Tomato Salsa, [Rice, Pinto Beans, Cheese, Sour Cream, Guacamole, Lettuce]]\\t$11.25 \\n1786\\t1\\tChicken Bowl\\t[Fresh Tomato Salsa, [Fajita Vegetables, Rice, Black Beans, Cheese, Sour Cream, Guacamole, Lettuce]]\\t$11.25 \\n1786\\t1\\tBarbacoa Bowl\\t[Fresh Tomato Salsa, [Fajita Vegetables, Rice, Black Beans, Guacamole, Lettuce]]\\t$11.75 \\n1786\\t1\\tChicken Bowl\\t[Fresh Tomato Salsa, [Rice, Black Beans, Cheese, Sour Cream, Guacamole, Lettuce]]\\t$11.25 \\n1786\\t1\\tCarnitas Burrito\\t[Fresh Tomato Salsa, [Rice, Black Beans, Guacamole, Lettuce]]\\t$11.75 \\n1786\\t1\\tChicken Bowl\\t[Fresh Tomato Salsa, [Fajita Vegetables, Rice, Sour Cream, Lettuce]]\\t$8.75 \\n1786\\t4\\tChips and Guacamole\\tNULL\\t$17.80 \\n1786\\t4\\tCanned Soft Drink\\t[Coke]\\t$5.00 \\n1786\\t4\\tCanned Soft Drink\\t[Sprite]\\t$5.00 \\n1787\\t1\\tChicken Burrito\\t[Tomatillo Green Chili Salsa, [Rice, Black Beans, Cheese, Sour Cream, Lettuce]]\\t$8.75 \\n1787\\t1\\tChips and Tomatillo Green Chili Salsa\\tNULL\\t$2.95 \\n1787\\t1\\tCanned Soft Drink\\t[Lemonade]\\t$1.25 \\n1788\\t1\\tChicken Bowl\\t[Fresh Tomato Salsa, [Rice, Pinto Beans, Sour Cream, Cheese, Lettuce, Guacamole]]\\t$11.25 \\n1788\\t1\\tCanned Soft Drink\\t[Sprite]\\t$1.25 \\n1788\\t1\\tChips\\tNULL\\t$2.15 \\n1789\\t1\\tChicken Bowl\\t[Tomatillo Green Chili Salsa, [Fajita Vegetables, Rice, Sour Cream, Guacamole]]\\t$11.25 \\n1789\\t2\\tCanned Soft Drink\\t[Coke]\\t$2.50 \\n1789\\t1\\tCarnitas Bowl\\t[Roasted Chili Corn Salsa, [Rice, Black Beans, Cheese, Sour Cream]]\\t$9.25 \\n1790\\t1\\tCanned Soft Drink\\t[Sprite]\\t$1.25 \\n1790\\t1\\tChicken Soft Tacos\\t[Fresh Tomato Salsa, [Cheese, Guacamole, Lettuce]]\\t$11.25 \\n1790\\t1\\tChips and Fresh Tomato Salsa\\tNULL\\t$2.95 \\n1791\\t1\\tCarnitas Bowl\\t[Fresh Tomato Salsa, [Rice, Sour Cream, Guacamole, Lettuce]]\\t$11.75 \\n1791\\t1\\tChips\\tNULL\\t$2.15 \\n1792\\t1\\tChicken Bowl\\t[Fresh Tomato Salsa, [Rice, Cheese, Sour Cream, Guacamole]]\\t$11.25 \\n1792\\t1\\tBottled Water\\tNULL\\t$1.50 \\n1793\\t1\\tSteak Burrito\\t[Brown Rice]\\t$8.99 \\n1793\\t1\\tChips\\tNULL\\t$1.99 \\n1793\\t1\\tBarbacoa Bowl\\t[Guacamole]\\t$11.49 \\n1794\\t1\\tChicken Bowl\\t[Roasted Chili Corn Salsa, [Rice, Fajita Vegetables, Cheese, Lettuce]]\\t$8.75 \\n1794\\t1\\tChips and Guacamole\\tNULL\\t$4.45 \\n1794\\t1\\tCanned Soft Drink\\t[Diet Coke]\\t$1.25 \\n1795\\t1\\tChicken Soft Tacos\\t[Fresh Tomato Salsa, [Rice, Cheese, Sour Cream]]\\t$8.75 \\n1795\\t1\\tChips and Guacamole\\tNULL\\t$4.45 \\n1795\\t1\\tCanned Soft Drink\\t[Sprite]\\t$1.25 \\n1796\\t1\\tBottled Water\\tNULL\\t$1.50 \\n1796\\t1\\tSteak Bowl\\t[Tomatillo Red Chili Salsa, [Rice, Black Beans, Pinto Beans, Cheese, Sour Cream, Guacamole, Lettuce]]\\t$11.75 \\n1797\\t1\\tVeggie Burrito\\t[Fresh Tomato Salsa, [Rice, Pinto Beans, Cheese]]\\t$8.75 \\n1797\\t1\\tChicken Salad Bowl\\t[Fresh Tomato Salsa, Lettuce]\\t$8.75 \\n1798\\t1\\tChicken Burrito\\t[Roasted Chili Corn Salsa, [Guacamole, Lettuce, Rice, Fajita Vegetables, Sour Cream]]\\t$11.25 \\n1798\\t1\\t6 Pack Soft Drink\\t[Diet Coke]\\t$6.49 \\n1798\\t1\\tSteak Crispy Tacos\\t[Tomatillo Green Chili Salsa, [Cheese, Sour Cream, Guacamole]]\\t$11.75 \\n1799\\t1\\tChicken Burrito\\t[Roasted Chili Corn Salsa, [Rice, Black Beans, Cheese]]\\t$8.75 \\n1799\\t1\\tChips\\tNULL\\t$2.15 \\n1799\\t1\\tCanned Soft Drink\\t[Sprite]\\t$1.25 \\n1800\\t1\\t6 Pack Soft Drink\\t[Diet Coke]\\t$6.49 \\n1800\\t1\\tChicken Burrito\\t[Fresh Tomato Salsa, [Rice, Black Beans, Sour Cream, Cheese, Lettuce]]\\t$8.75 \\n1800\\t1\\tChips and Guacamole\\tNULL\\t$4.45 \\n1801\\t1\\tChicken Burrito\\t[Roasted Chili Corn Salsa, [Fajita Vegetables, Rice, Cheese, Lettuce]]\\t$8.75 \\n1801\\t1\\tChips and Guacamole\\tNULL\\t$4.45 \\n1802\\t1\\tChicken Bowl\\t[Roasted Chili Corn Salsa, [Rice, Black Beans, Cheese, Sour Cream, Lettuce]]\\t$8.75 \\n1802\\t1\\tChicken Burrito\\t[Tomatillo Red Chili Salsa, [Fajita Vegetables, Rice, Black Beans, Cheese, Sour Cream, Guacamole, Lettuce]]\\t$11.25 \\n1803\\t1\\tChips and Guacamole\\tNULL\\t$4.45 \\n1803\\t1\\t6 Pack Soft Drink\\t[Lemonade]\\t$6.49 \\n1803\\t1\\tSteak Burrito\\t[Fresh Tomato Salsa, [Fajita Vegetables, Rice, Cheese]]\\t$9.25 \\n1804\\t1\\tChicken Bowl\\t[Fresh Tomato Salsa, [Rice, Black Beans, Cheese, Sour Cream]]\\t$8.75 \\n1804\\t1\\tCanned Soft Drink\\t[Coke]\\t$1.25 \\n1804\\t1\\tChips and Guacamole\\tNULL\\t$4.45 \\n1805\\t1\\tChicken Bowl\\t[Tomatillo Green Chili Salsa, [Fajita Vegetables, Rice, Pinto Beans, Cheese, Guacamole, Lettuce]]\\t$11.25 \\n1805\\t1\\tVeggie Salad Bowl\\t[Tomatillo Green Chili Salsa, [Fajita Vegetables, Rice, Black Beans, Cheese, Sour Cream, Lettuce]]\\t$8.75 \\n1806\\t1\\tBottled Water\\tNULL\\t$1.50 \\n1806\\t1\\tChicken Burrito\\t[Fresh Tomato Salsa, [Fajita Vegetables, Rice]]\\t$8.75 \\n1806\\t1\\tBottled Water\\tNULL\\t$1.50 \\n1806\\t1\\tCanned Soft Drink\\t[Diet Coke]\\t$1.25 \\n1807\\t1\\tSteak Burrito\\t[Fresh Tomato Salsa, [Rice, Black Beans, Cheese]]\\t$9.25 \\n1807\\t1\\tSteak Salad Bowl\\t[Roasted Chili Corn Salsa, [Fajita Vegetables, Cheese]]\\t$9.39 \\n1808\\t1\\tChips and Guacamole\\tNULL\\t$4.45 \\n1808\\t1\\tSteak Soft Tacos\\t[Tomatillo Green Chili Salsa, [Rice, Pinto Beans, Cheese, Sour Cream]]\\t$9.25 \\n1809\\t1\\tChicken Soft Tacos\\t[Fresh Tomato Salsa, [Fajita Vegetables, Cheese, Sour Cream]]\\t$8.75 \\n1809\\t1\\tChips and Guacamole\\tNULL\\t$4.45 \\n1809\\t1\\tCanned Soft Drink\\t[Sprite]\\t$1.25 \\n1810\\t1\\tChicken Bowl\\t[Roasted Chili Corn Salsa, [Black Beans, Sour Cream, Cheese, Guacamole]]\\t$11.25 \\n1810\\t1\\tSteak Crispy Tacos\\t[Roasted Chili Corn Salsa, [Fajita Vegetables, Sour Cream, Cheese, Lettuce, Guacamole]]\\t$11.75 \\n1811\\t1\\tChicken Bowl\\t[Roasted Chili Corn Salsa, [Fajita Vegetables, Rice, Cheese, Sour Cream, Lettuce]]\\t$8.75 \\n1811\\t1\\tChicken Burrito\\t[Tomatillo Green Chili Salsa, [Fajita Vegetables, Rice, Black Beans, Cheese, Sour Cream, Guacamole, Lettuce]]\\t$11.25 \\n1811\\t1\\tCarnitas Soft Tacos\\t[Tomatillo Red Chili Salsa, [Fajita Vegetables, Rice, Black Beans, Cheese, Sour Cream, Lettuce]]\\t$9.25 \\n1812\\t1\\tChicken Burrito\\t[Fresh Tomato Salsa, [Rice, Black Beans, Cheese, Sour Cream, Lettuce]]\\t$8.75 \\n1812\\t1\\tChicken Burrito\\t[Tomatillo Red Chili Salsa, [Rice, Cheese, Guacamole, Lettuce]]\\t$11.25 \\n1812\\t2\\tCanned Soft Drink\\t[Coke]\\t$2.50 \\n1813\\t2\\tChicken Salad Bowl\\t[Fresh Tomato Salsa, [Fajita Vegetables, Pinto Beans, Lettuce]]\\t$17.50 \\n1814\\t1\\tCarnitas Bowl\\t[Roasted Chili Corn Salsa, [Fajita Vegetables, Rice, Cheese, Sour Cream]]\\t$9.25 \\n1814\\t1\\tChips and Guacamole\\tNULL\\t$4.45 \\n1815\\t1\\tChicken Bowl\\t[Fresh Tomato Salsa, [Fajita Vegetables, Rice, Pinto Beans, Cheese, Guacamole, Lettuce]]\\t$11.25 \\n1815\\t1\\tCanned Soft Drink\\t[Sprite]\\t$1.25 \\n1816\\t1\\tChicken Burrito\\t[Roasted Chili Corn Salsa, [Pinto Beans, Cheese, Sour Cream]]\\t$8.75 \\n1816\\t1\\tChips and Guacamole\\tNULL\\t$4.45 \\n1817\\t1\\tBottled Water\\tNULL\\t$1.50 \\n1817\\t1\\tChicken Burrito\\t[Fresh Tomato Salsa, [Fajita Vegetables, Rice]]\\t$8.75 \\n1817\\t1\\tBottled Water\\tNULL\\t$1.50 \\n1817\\t1\\tCanned Soft Drink\\t[Diet Coke]\\t$1.25 \\n1818\\t1\\tSteak Salad Bowl\\t[Fresh Tomato Salsa, [Fajita Vegetables, Lettuce]]\\t$9.39 \\n1818\\t1\\tVeggie Salad Bowl\\t[Fresh Tomato Salsa, [Fajita Vegetables, Pinto Beans, Lettuce]]\\t$8.75 \\n1819\\t1\\tChicken Bowl\\t[Roasted Chili Corn Salsa, [Rice, Cheese, Lettuce]]\\t$8.75 \\n1819\\t1\\tChips and Guacamole\\tNULL\\t$4.45 \\n1820\\t1\\tChicken Bowl\\t[Fresh Tomato Salsa, [Rice, Cheese, Sour Cream, Guacamole]]\\t$11.25 \\n1820\\t1\\tCanned Soft Drink\\t[Coke]\\t$1.25 \\n1821\\t1\\tCarnitas Burrito\\t[Tomatillo Green Chili Salsa, [Rice, Pinto Beans, Sour Cream]]\\t$9.25 \\n1821\\t1\\tChips and Guacamole\\tNULL\\t$4.45 \\n1822\\t1\\tChicken Salad Bowl\\t[Fresh Tomato Salsa, [Black Beans, Cheese, Guacamole]]\\t$11.25 \\n1822\\t1\\tChicken Bowl\\t[Tomatillo Red Chili Salsa, [Rice, Black Beans, Pinto Beans, Cheese, Sour Cream, Lettuce]]\\t$8.75 \\n1822\\t2\\tBottled Water\\tNULL\\t$3.00 \\n1823\\t1\\tChicken Bowl\\t[Tomatillo Green Chili Salsa, [Rice, Black Beans, Sour Cream, Lettuce]]\\t$8.75 \\n1823\\t1\\tChips\\tNULL\\t$2.15 \\n1823\\t1\\tCanned Soft Drink\\t[Diet Coke]\\t$1.25 \\n1824\\t1\\tChicken Bowl\\t[Fresh Tomato Salsa, [Rice, Black Beans, Cheese, Sour Cream, Guacamole, Lettuce]]\\t$11.25 \\n1824\\t1\\tChicken Bowl\\t[Fresh Tomato Salsa, [Rice, Black Beans, Cheese, Sour Cream, Guacamole]]\\t$11.25 \\n1824\\t1\\tChips and Guacamole\\tNULL\\t$4.45 \\n1825\\t1\\tChicken Bowl\\t[Fresh Tomato Salsa, [Rice, Black Beans, Sour Cream, Cheese, Lettuce, Guacamole]]\\t$11.25 \\n1825\\t1\\tChicken Bowl\\t[Roasted Chili Corn Salsa, [Rice, Black Beans, Cheese, Lettuce, Guacamole]]\\t$11.25 \\n1825\\t1\\tChicken Bowl\\t[Tomatillo Red Chili Salsa, [Rice, Black Beans, Sour Cream, Cheese, Lettuce]]\\t$8.75 \\n1825\\t1\\tBarbacoa Burrito\\t[Tomatillo Red Chili Salsa, [Rice, Fajita Vegetables, Black Beans, Sour Cream, Cheese, Guacamole]]\\t$11.75 \\n1825\\t1\\tCarnitas Bowl\\t[Roasted Chili Corn Salsa, [Rice, Sour Cream, Cheese, Lettuce, Guacamole]]\\t$11.75 \\n1825\\t1\\tBarbacoa Bowl\\t[Roasted Chili Corn Salsa, [Pinto Beans, Sour Cream, Cheese, Lettuce, Guacamole]]\\t$11.75 \\n1826\\t1\\tChicken Bowl\\t[Tomatillo Green Chili Salsa, [Rice, Black Beans]]\\t$8.75 \\n1826\\t1\\tChips and Guacamole\\tNULL\\t$4.45 \\n1826\\t1\\tCanned Soft Drink\\t[Nestea]\\t$1.25 \\n1826\\t1\\tBottled Water\\tNULL\\t$1.50 \\n1827\\t1\\tChicken Bowl\\t[Roasted Chili Corn Salsa, [Cheese, Lettuce]]\\t$8.75 \\n1827\\t1\\tChips and Guacamole\\tNULL\\t$4.45 \\n1827\\t1\\tCanned Soft Drink\\t[Diet Coke]\\t$1.25 \\n1827\\t1\\tBarbacoa Burrito\\t[Tomatillo Green Chili Salsa]\\t$9.25 \\n1827\\t1\\tBarbacoa Burrito\\t[Tomatillo Green Chili Salsa]\\t$9.25 \\n1828\\t1\\tChicken Bowl\\t[Fresh Tomato Salsa, [Rice, Black Beans, Cheese, Sour Cream]]\\t$8.75 \\n1828\\t1\\tChips and Guacamole\\tNULL\\t$4.45 \\n1828\\t1\\tCanned Soft Drink\\t[Coke]\\t$1.25 \\n1829\\t1\\tSteak Burrito\\t[Tomatillo Green Chili Salsa, [Rice, Cheese, Sour Cream, Guacamole]]\\t$11.75 \\n1829\\t1\\tVeggie Burrito\\t[Tomatillo Red Chili Salsa, [Fajita Vegetables, Rice, Black Beans, Cheese, Guacamole, Lettuce]]\\t$11.25 \\n1829\\t1\\tCanned Soft Drink\\t[Sprite]\\t$1.25 \\n1830\\t1\\tSteak Burrito\\t[Fresh Tomato Salsa, [Rice, Sour Cream, Cheese, Lettuce, Guacamole]]\\t$11.75 \\n1830\\t1\\tVeggie Burrito\\t[Tomatillo Green Chili Salsa, [Rice, Fajita Vegetables, Black Beans, Guacamole]]\\t$11.25 \\n1831\\t1\\tCarnitas Bowl\\t[Fresh Tomato Salsa, [Fajita Vegetables, Rice, Black Beans, Cheese, Sour Cream, Lettuce]]\\t$9.25 \\n1831\\t1\\tChips\\tNULL\\t$2.15 \\n1831\\t1\\tBottled Water\\tNULL\\t$1.50 \\n1832\\t1\\tChicken Soft Tacos\\t[Fresh Tomato Salsa, [Rice, Cheese, Sour Cream]]\\t$8.75 \\n1832\\t1\\tChips and Guacamole\\tNULL\\t$4.45 \\n1833\\t1\\tSteak Burrito\\t[Fresh Tomato Salsa, [Rice, Black Beans, Sour Cream, Cheese, Lettuce, Guacamole]]\\t$11.75 \\n1833\\t1\\tSteak Burrito\\t[Fresh Tomato Salsa, [Rice, Sour Cream, Cheese, Lettuce, Guacamole]]\\t$11.75 \\n1834\\t1\\tChicken Salad Bowl\\t[Fresh Tomato Salsa, [Fajita Vegetables, Pinto Beans, Guacamole, Lettuce]]\\t$11.25 \\n1834\\t1\\tChicken Salad Bowl\\t[Fresh Tomato Salsa, [Fajita Vegetables, Lettuce]]\\t$8.75 \\n1834\\t1\\tChicken Salad Bowl\\t[Fresh Tomato Salsa, [Fajita Vegetables, Pinto Beans, Lettuce]]\\t$8.75 \\n']\n"
    }
   ],
   "source": [
    "chipo = [requests.get(url).content]\n",
    "np.asarray(chipo)\n",
    "print(chipo)\n",
    "# s = np.array_split(\"order_id\", \"quantity\", \"item_name\", \"choice_description\", \"item_price\")"
   ]
  },
  {
   "cell_type": "markdown",
   "metadata": {},
   "source": [
    "### Step 4. See the first 10 entries"
   ]
  },
  {
   "cell_type": "code",
   "execution_count": null,
   "metadata": {},
   "outputs": [],
   "source": []
  },
  {
   "cell_type": "code",
   "execution_count": 3,
   "metadata": {
    "collapsed": false,
    "scrolled": false
   },
   "outputs": [
    {
     "data": {
      "text/html": [
       "<div>\n",
       "<table border=\"1\" class=\"dataframe\">\n",
       "  <thead>\n",
       "    <tr style=\"text-align: right;\">\n",
       "      <th></th>\n",
       "      <th>order_id</th>\n",
       "      <th>quantity</th>\n",
       "      <th>item_name</th>\n",
       "      <th>choice_description</th>\n",
       "      <th>item_price</th>\n",
       "    </tr>\n",
       "  </thead>\n",
       "  <tbody>\n",
       "    <tr>\n",
       "      <th>0</th>\n",
       "      <td>1</td>\n",
       "      <td>1</td>\n",
       "      <td>Chips and Fresh Tomato Salsa</td>\n",
       "      <td>NaN</td>\n",
       "      <td>$2.39</td>\n",
       "    </tr>\n",
       "    <tr>\n",
       "      <th>1</th>\n",
       "      <td>1</td>\n",
       "      <td>1</td>\n",
       "      <td>Izze</td>\n",
       "      <td>[Clementine]</td>\n",
       "      <td>$3.39</td>\n",
       "    </tr>\n",
       "    <tr>\n",
       "      <th>2</th>\n",
       "      <td>1</td>\n",
       "      <td>1</td>\n",
       "      <td>Nantucket Nectar</td>\n",
       "      <td>[Apple]</td>\n",
       "      <td>$3.39</td>\n",
       "    </tr>\n",
       "    <tr>\n",
       "      <th>3</th>\n",
       "      <td>1</td>\n",
       "      <td>1</td>\n",
       "      <td>Chips and Tomatillo-Green Chili Salsa</td>\n",
       "      <td>NaN</td>\n",
       "      <td>$2.39</td>\n",
       "    </tr>\n",
       "    <tr>\n",
       "      <th>4</th>\n",
       "      <td>2</td>\n",
       "      <td>2</td>\n",
       "      <td>Chicken Bowl</td>\n",
       "      <td>[Tomatillo-Red Chili Salsa (Hot), [Black Beans...</td>\n",
       "      <td>$16.98</td>\n",
       "    </tr>\n",
       "    <tr>\n",
       "      <th>5</th>\n",
       "      <td>3</td>\n",
       "      <td>1</td>\n",
       "      <td>Chicken Bowl</td>\n",
       "      <td>[Fresh Tomato Salsa (Mild), [Rice, Cheese, Sou...</td>\n",
       "      <td>$10.98</td>\n",
       "    </tr>\n",
       "    <tr>\n",
       "      <th>6</th>\n",
       "      <td>3</td>\n",
       "      <td>1</td>\n",
       "      <td>Side of Chips</td>\n",
       "      <td>NaN</td>\n",
       "      <td>$1.69</td>\n",
       "    </tr>\n",
       "    <tr>\n",
       "      <th>7</th>\n",
       "      <td>4</td>\n",
       "      <td>1</td>\n",
       "      <td>Steak Burrito</td>\n",
       "      <td>[Tomatillo Red Chili Salsa, [Fajita Vegetables...</td>\n",
       "      <td>$11.75</td>\n",
       "    </tr>\n",
       "    <tr>\n",
       "      <th>8</th>\n",
       "      <td>4</td>\n",
       "      <td>1</td>\n",
       "      <td>Steak Soft Tacos</td>\n",
       "      <td>[Tomatillo Green Chili Salsa, [Pinto Beans, Ch...</td>\n",
       "      <td>$9.25</td>\n",
       "    </tr>\n",
       "    <tr>\n",
       "      <th>9</th>\n",
       "      <td>5</td>\n",
       "      <td>1</td>\n",
       "      <td>Steak Burrito</td>\n",
       "      <td>[Fresh Tomato Salsa, [Rice, Black Beans, Pinto...</td>\n",
       "      <td>$9.25</td>\n",
       "    </tr>\n",
       "  </tbody>\n",
       "</table>\n",
       "</div>"
      ],
      "text/plain": [
       "   order_id  quantity                              item_name  \\\n",
       "0         1         1           Chips and Fresh Tomato Salsa   \n",
       "1         1         1                                   Izze   \n",
       "2         1         1                       Nantucket Nectar   \n",
       "3         1         1  Chips and Tomatillo-Green Chili Salsa   \n",
       "4         2         2                           Chicken Bowl   \n",
       "5         3         1                           Chicken Bowl   \n",
       "6         3         1                          Side of Chips   \n",
       "7         4         1                          Steak Burrito   \n",
       "8         4         1                       Steak Soft Tacos   \n",
       "9         5         1                          Steak Burrito   \n",
       "\n",
       "                                  choice_description item_price  \n",
       "0                                                NaN     $2.39   \n",
       "1                                       [Clementine]     $3.39   \n",
       "2                                            [Apple]     $3.39   \n",
       "3                                                NaN     $2.39   \n",
       "4  [Tomatillo-Red Chili Salsa (Hot), [Black Beans...    $16.98   \n",
       "5  [Fresh Tomato Salsa (Mild), [Rice, Cheese, Sou...    $10.98   \n",
       "6                                                NaN     $1.69   \n",
       "7  [Tomatillo Red Chili Salsa, [Fajita Vegetables...    $11.75   \n",
       "8  [Tomatillo Green Chili Salsa, [Pinto Beans, Ch...     $9.25   \n",
       "9  [Fresh Tomato Salsa, [Rice, Black Beans, Pinto...     $9.25   "
      ]
     },
     "execution_count": 3,
     "metadata": {},
     "output_type": "execute_result"
    }
   ],
   "source": []
  },
  {
   "cell_type": "markdown",
   "metadata": {},
   "source": [
    "### Step 5. What is the number of observations in the dataset?"
   ]
  },
  {
   "cell_type": "code",
   "execution_count": null,
   "metadata": {},
   "outputs": [],
   "source": []
  },
  {
   "cell_type": "code",
   "execution_count": 1,
   "metadata": {},
   "outputs": [],
   "source": [
    "# Solution 1\n",
    "\n"
   ]
  },
  {
   "cell_type": "code",
   "execution_count": 5,
   "metadata": {
    "collapsed": false
   },
   "outputs": [
    {
     "name": "stdout",
     "output_type": "stream",
     "text": [
      "<class 'pandas.core.frame.DataFrame'>\n",
      "RangeIndex: 4622 entries, 0 to 4621\n",
      "Data columns (total 5 columns):\n",
      "order_id              4622 non-null int64\n",
      "quantity              4622 non-null int64\n",
      "item_name             4622 non-null object\n",
      "choice_description    3376 non-null object\n",
      "item_price            4622 non-null object\n",
      "dtypes: int64(2), object(3)\n",
      "memory usage: 180.6+ KB\n"
     ]
    }
   ],
   "source": [
    "# Solution 2\n",
    "\n"
   ]
  },
  {
   "cell_type": "markdown",
   "metadata": {},
   "source": [
    "### Step 6. What is the number of columns in the dataset?"
   ]
  },
  {
   "cell_type": "code",
   "execution_count": 6,
   "metadata": {
    "collapsed": false
   },
   "outputs": [
    {
     "data": {
      "text/plain": [
       "5"
      ]
     },
     "execution_count": 6,
     "metadata": {},
     "output_type": "execute_result"
    }
   ],
   "source": []
  },
  {
   "cell_type": "markdown",
   "metadata": {},
   "source": [
    "### Step 7. Print the name of all the columns."
   ]
  },
  {
   "cell_type": "code",
   "execution_count": 7,
   "metadata": {
    "collapsed": false
   },
   "outputs": [
    {
     "data": {
      "text/plain": [
       "Index([u'order_id', u'quantity', u'item_name', u'choice_description',\n",
       "       u'item_price'],\n",
       "      dtype='object')"
      ]
     },
     "execution_count": 7,
     "metadata": {},
     "output_type": "execute_result"
    }
   ],
   "source": []
  },
  {
   "cell_type": "markdown",
   "metadata": {},
   "source": [
    "### Step 8. How is the dataset indexed?"
   ]
  },
  {
   "cell_type": "code",
   "execution_count": 8,
   "metadata": {
    "collapsed": false
   },
   "outputs": [
    {
     "data": {
      "text/plain": [
       "RangeIndex(start=0, stop=4622, step=1)"
      ]
     },
     "execution_count": 8,
     "metadata": {},
     "output_type": "execute_result"
    }
   ],
   "source": []
  },
  {
   "cell_type": "markdown",
   "metadata": {},
   "source": [
    "### Step 9. Which was the most-ordered item? "
   ]
  },
  {
   "cell_type": "code",
   "execution_count": 9,
   "metadata": {
    "collapsed": false
   },
   "outputs": [
    {
     "data": {
      "text/html": [
       "<div>\n",
       "<table border=\"1\" class=\"dataframe\">\n",
       "  <thead>\n",
       "    <tr style=\"text-align: right;\">\n",
       "      <th></th>\n",
       "      <th>order_id</th>\n",
       "      <th>quantity</th>\n",
       "    </tr>\n",
       "    <tr>\n",
       "      <th>item_name</th>\n",
       "      <th></th>\n",
       "      <th></th>\n",
       "    </tr>\n",
       "  </thead>\n",
       "  <tbody>\n",
       "    <tr>\n",
       "      <th>Chicken Bowl</th>\n",
       "      <td>713926</td>\n",
       "      <td>761</td>\n",
       "    </tr>\n",
       "  </tbody>\n",
       "</table>\n",
       "</div>"
      ],
      "text/plain": [
       "              order_id  quantity\n",
       "item_name                       \n",
       "Chicken Bowl    713926       761"
      ]
     },
     "execution_count": 9,
     "metadata": {},
     "output_type": "execute_result"
    }
   ],
   "source": []
  },
  {
   "cell_type": "markdown",
   "metadata": {},
   "source": [
    "### Step 10. For the most-ordered item, how many items were ordered?"
   ]
  },
  {
   "cell_type": "code",
   "execution_count": 10,
   "metadata": {
    "collapsed": false
   },
   "outputs": [
    {
     "data": {
      "text/html": [
       "<div>\n",
       "<table border=\"1\" class=\"dataframe\">\n",
       "  <thead>\n",
       "    <tr style=\"text-align: right;\">\n",
       "      <th></th>\n",
       "      <th>order_id</th>\n",
       "      <th>quantity</th>\n",
       "    </tr>\n",
       "    <tr>\n",
       "      <th>item_name</th>\n",
       "      <th></th>\n",
       "      <th></th>\n",
       "    </tr>\n",
       "  </thead>\n",
       "  <tbody>\n",
       "    <tr>\n",
       "      <th>Chicken Bowl</th>\n",
       "      <td>713926</td>\n",
       "      <td>761</td>\n",
       "    </tr>\n",
       "  </tbody>\n",
       "</table>\n",
       "</div>"
      ],
      "text/plain": [
       "              order_id  quantity\n",
       "item_name                       \n",
       "Chicken Bowl    713926       761"
      ]
     },
     "execution_count": 10,
     "metadata": {},
     "output_type": "execute_result"
    }
   ],
   "source": []
  },
  {
   "cell_type": "markdown",
   "metadata": {},
   "source": [
    "### Step 11. What was the most ordered item in the choice_description column?"
   ]
  },
  {
   "cell_type": "code",
   "execution_count": 11,
   "metadata": {
    "collapsed": false
   },
   "outputs": [
    {
     "data": {
      "text/html": [
       "<div>\n",
       "<table border=\"1\" class=\"dataframe\">\n",
       "  <thead>\n",
       "    <tr style=\"text-align: right;\">\n",
       "      <th></th>\n",
       "      <th>order_id</th>\n",
       "      <th>quantity</th>\n",
       "    </tr>\n",
       "    <tr>\n",
       "      <th>choice_description</th>\n",
       "      <th></th>\n",
       "      <th></th>\n",
       "    </tr>\n",
       "  </thead>\n",
       "  <tbody>\n",
       "    <tr>\n",
       "      <th>[Diet Coke]</th>\n",
       "      <td>123455</td>\n",
       "      <td>159</td>\n",
       "    </tr>\n",
       "  </tbody>\n",
       "</table>\n",
       "</div>"
      ],
      "text/plain": [
       "                    order_id  quantity\n",
       "choice_description                    \n",
       "[Diet Coke]           123455       159"
      ]
     },
     "execution_count": 11,
     "metadata": {},
     "output_type": "execute_result"
    }
   ],
   "source": []
  },
  {
   "cell_type": "markdown",
   "metadata": {},
   "source": [
    "### Step 12. How many items were orderd in total?"
   ]
  },
  {
   "cell_type": "code",
   "execution_count": 12,
   "metadata": {
    "collapsed": false
   },
   "outputs": [
    {
     "data": {
      "text/plain": [
       "4972"
      ]
     },
     "execution_count": 12,
     "metadata": {},
     "output_type": "execute_result"
    }
   ],
   "source": []
  },
  {
   "cell_type": "markdown",
   "metadata": {},
   "source": [
    "### Step 13. Turn the item price into a float"
   ]
  },
  {
   "cell_type": "markdown",
   "metadata": {},
   "source": [
    "#### Step 13.a. Check the item price type"
   ]
  },
  {
   "cell_type": "code",
   "execution_count": 13,
   "metadata": {
    "collapsed": false
   },
   "outputs": [
    {
     "data": {
      "text/plain": [
       "dtype('O')"
      ]
     },
     "execution_count": 13,
     "metadata": {},
     "output_type": "execute_result"
    }
   ],
   "source": []
  },
  {
   "cell_type": "markdown",
   "metadata": {},
   "source": [
    "#### Step 13.b. Create a lambda function and change the type of item price"
   ]
  },
  {
   "cell_type": "code",
   "execution_count": 14,
   "metadata": {
    "collapsed": true
   },
   "outputs": [],
   "source": []
  },
  {
   "cell_type": "markdown",
   "metadata": {},
   "source": [
    "#### Step 13.c. Check the item price type"
   ]
  },
  {
   "cell_type": "code",
   "execution_count": 15,
   "metadata": {
    "collapsed": false
   },
   "outputs": [
    {
     "data": {
      "text/plain": [
       "dtype('float64')"
      ]
     },
     "execution_count": 15,
     "metadata": {},
     "output_type": "execute_result"
    }
   ],
   "source": []
  },
  {
   "cell_type": "markdown",
   "metadata": {},
   "source": [
    "### Step 14. How much was the revenue for the period in the dataset?"
   ]
  },
  {
   "cell_type": "code",
   "execution_count": 22,
   "metadata": {
    "collapsed": false
   },
   "outputs": [
    {
     "name": "stdout",
     "output_type": "stream",
     "text": [
      "Revenue was: $39237.02\n"
     ]
    }
   ],
   "source": []
  },
  {
   "cell_type": "markdown",
   "metadata": {},
   "source": [
    "### Step 15. How many orders were made in the period?"
   ]
  },
  {
   "cell_type": "code",
   "execution_count": 23,
   "metadata": {
    "collapsed": false
   },
   "outputs": [
    {
     "data": {
      "text/plain": [
       "1834"
      ]
     },
     "execution_count": 23,
     "metadata": {},
     "output_type": "execute_result"
    }
   ],
   "source": []
  },
  {
   "cell_type": "markdown",
   "metadata": {},
   "source": [
    "### Step 16. What is the average revenue amount per order?"
   ]
  },
  {
   "cell_type": "code",
   "execution_count": 31,
   "metadata": {
    "collapsed": false
   },
   "outputs": [
    {
     "data": {
      "text/plain": [
       "21.394231188658654"
      ]
     },
     "execution_count": 31,
     "metadata": {},
     "output_type": "execute_result"
    }
   ],
   "source": [
    "# Solution 1\n",
    "\n"
   ]
  },
  {
   "cell_type": "code",
   "execution_count": 32,
   "metadata": {
    "collapsed": false
   },
   "outputs": [
    {
     "data": {
      "text/plain": [
       "21.394231188658654"
      ]
     },
     "execution_count": 32,
     "metadata": {},
     "output_type": "execute_result"
    }
   ],
   "source": [
    "# Solution 2\n",
    "\n"
   ]
  },
  {
   "cell_type": "markdown",
   "metadata": {},
   "source": [
    "### Step 17. How many different items are sold?"
   ]
  },
  {
   "cell_type": "code",
   "execution_count": 33,
   "metadata": {
    "collapsed": false
   },
   "outputs": [
    {
     "data": {
      "text/plain": [
       "50"
      ]
     },
     "execution_count": 33,
     "metadata": {},
     "output_type": "execute_result"
    }
   ],
   "source": []
  }
 ],
 "metadata": {
  "anaconda-cloud": {},
  "kernelspec": {
   "display_name": "Python 3.8.3 64-bit",
   "language": "python",
   "name": "python_defaultSpec_1594134099912"
  },
  "language_info": {
   "codemirror_mode": {
    "name": "ipython",
    "version": 2
   },
   "file_extension": ".py",
   "mimetype": "text/x-python",
   "name": "python",
   "nbconvert_exporter": "python",
   "pygments_lexer": "ipython2",
   "version": "3.7.4-final"
  }
 },
 "nbformat": 4,
 "nbformat_minor": 0
}