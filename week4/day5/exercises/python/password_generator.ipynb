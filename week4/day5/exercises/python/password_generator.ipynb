{
 "cells": [
  {
   "cell_type": "markdown",
   "metadata": {},
   "source": [
    "Write a password generator in Python\n",
    "\n",
    "Link: https://www.practicepython.org/solution/2014/06/06/16-password-generator-solutions.html"
   ]
  },
  {
   "cell_type": "code",
   "execution_count": 1,
   "metadata": {
    "tags": []
   },
   "outputs": [
    {
     "output_type": "stream",
     "name": "stdout",
     "text": "\n\nletters:\n\n abcdefghijklmnopqrstuvwxyzABCDEFGHIJKLMNOPQRSTUVWXYZ\n\n\ndigits:\n\n 0123456789\n\n\npunctuations:\n\n !\"#$%&'()*+,-./:;<=>?@[\\]^_`{|}~\n"
    }
   ],
   "source": [
    "import string\n",
    "\n",
    "letters = string.ascii_letters \n",
    "digits = string.digits\n",
    "punctuations = string.punctuation\n",
    "\n",
    "print(\"\\n\\nletters:\\n\\n\", letters)\n",
    "print(\"\\n\\ndigits:\\n\\n\", digits)\n",
    "print(\"\\n\\npunctuations:\\n\\n\", punctuations)"
   ]
  },
  {
   "cell_type": "code",
   "execution_count": null,
   "metadata": {},
   "outputs": [],
   "source": [
    "def Random_n_g ():\n",
    "    \"\"\" Next line is not needed if you wrote it before. Consider deletion.\"\"\"\n",
    "    import numpy as np\n",
    "        # Return list with random integers from low (inclusive) to high (exclusive).\n",
    "    number = np.random.randint(0, high=10, size=4, dtype=int)\n",
    "        # Group the four elements in the list to a str\n",
    "    strings = [str(num) for num in number]\n",
    "    a_string = \"\".join(strings)\n",
    "        # In the lines below we can modify number value to int (= int(a_string))\n",
    "        # but remember int removes the 'left sided' ceros.\n",
    "    number = (a_string)\n",
    "    print(number)"
   ]
  },
  {
   "cell_type": "code",
   "execution_count": 2,
   "metadata": {},
   "outputs": [
    {
     "output_type": "execute_result",
     "data": {
      "text/plain": "74"
     },
     "metadata": {},
     "execution_count": 2
    }
   ],
   "source": [
    "# otra opcion\n",
    "str_total = letters + digits + punctuations\n",
    "import random\n",
    "random_int = random.randint(0, len(str_total))\n",
    "random_int"
   ]
  },
  {
   "cell_type": "code",
   "execution_count": 3,
   "metadata": {
    "tags": []
   },
   "outputs": [
    {
     "output_type": "stream",
     "name": "stdout",
     "text": ";\n"
    }
   ],
   "source": [
    "password = []\n",
    "x = len(str_total)\n",
    "for i in range (x):\n",
    "    random_choice = random.choice (str_total)\n",
    "    password = password + list(random_choice)\n",
    "print (random_choice)"
   ]
  },
  {
   "cell_type": "code",
   "execution_count": 9,
   "metadata": {},
   "outputs": [
    {
     "output_type": "execute_result",
     "data": {
      "text/plain": "'a-f-r'"
     },
     "metadata": {},
     "execution_count": 9
    }
   ],
   "source": [
    "lista = [\"a\", \"f\",\"r\"]\n",
    "s = \"-\"\n",
    "s = s.join(lista)\n",
    "s"
   ]
  },
  {
   "cell_type": "code",
   "execution_count": 10,
   "metadata": {},
   "outputs": [
    {
     "output_type": "error",
     "ename": "NameError",
     "evalue": "name 'password' is not defined",
     "traceback": [
      "\u001b[1;31m---------------------------------------------------------------------------\u001b[0m",
      "\u001b[1;31mNameError\u001b[0m                                 Traceback (most recent call last)",
      "\u001b[1;32m<ipython-input-10-d1ee4ce6ee3e>\u001b[0m in \u001b[0;36m<module>\u001b[1;34m\u001b[0m\n\u001b[0;32m      1\u001b[0m \u001b[0mto_show\u001b[0m \u001b[1;33m=\u001b[0m\u001b[1;34m\"\"\u001b[0m\u001b[1;33m\u001b[0m\u001b[1;33m\u001b[0m\u001b[0m\n\u001b[1;32m----> 2\u001b[1;33m \u001b[1;32mfor\u001b[0m \u001b[0mi\u001b[0m\u001b[1;33m,\u001b[0m \u001b[0ms\u001b[0m \u001b[1;32min\u001b[0m \u001b[0menumerate\u001b[0m \u001b[1;33m(\u001b[0m\u001b[0mpassword\u001b[0m\u001b[1;33m)\u001b[0m\u001b[1;33m:\u001b[0m\u001b[1;33m\u001b[0m\u001b[1;33m\u001b[0m\u001b[0m\n\u001b[0m\u001b[0;32m      3\u001b[0m     \u001b[0mto_show\u001b[0m \u001b[1;33m+=\u001b[0m \u001b[0ms\u001b[0m\u001b[1;33m\u001b[0m\u001b[1;33m\u001b[0m\u001b[0m\n\u001b[0;32m      4\u001b[0m     \u001b[1;32mif\u001b[0m \u001b[1;33m(\u001b[0m\u001b[0mi\u001b[0m\u001b[1;33m+\u001b[0m\u001b[1;36m1\u001b[0m\u001b[1;33m)\u001b[0m \u001b[1;33m%\u001b[0m \u001b[1;36m3\u001b[0m \u001b[1;33m==\u001b[0m \u001b[1;36m0\u001b[0m\u001b[1;33m:\u001b[0m\u001b[1;33m\u001b[0m\u001b[1;33m\u001b[0m\u001b[0m\n\u001b[0;32m      5\u001b[0m         \u001b[0mto_show\u001b[0m \u001b[1;33m+=\u001b[0m \u001b[1;34m\"-\"\u001b[0m\u001b[1;33m\u001b[0m\u001b[1;33m\u001b[0m\u001b[0m\n",
      "\u001b[1;31mNameError\u001b[0m: name 'password' is not defined"
     ]
    }
   ],
   "source": [
    "to_show =\"\"\n",
    "for i, s in enumerate (password):\n",
    "    to_show += s\n",
    "    if (i+1) % 3 == 0:\n",
    "        to_show += \"-\" \n",
    "to_show"
   ]
  },
  {
   "cell_type": "code",
   "execution_count": null,
   "metadata": {},
   "outputs": [],
   "source": []
  }
 ],
 "metadata": {
  "language_info": {
   "codemirror_mode": {
    "name": "ipython",
    "version": 3
   },
   "file_extension": ".py",
   "mimetype": "text/x-python",
   "name": "python",
   "nbconvert_exporter": "python",
   "pygments_lexer": "ipython3",
   "version": "3.6.4-final"
  },
  "orig_nbformat": 2,
  "kernelspec": {
   "name": "python_defaultSpec_1594368670254",
   "display_name": "Python 3.8.3 64-bit"
  }
 },
 "nbformat": 4,
 "nbformat_minor": 2
}