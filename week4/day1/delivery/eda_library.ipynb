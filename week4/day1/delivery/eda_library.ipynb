{
 "cells": [
  {
   "cell_type": "markdown",
   "metadata": {},
   "source": [
    "# Delivery"
   ]
  },
  {
   "cell_type": "markdown",
   "metadata": {},
   "source": [
    "### Create your own EDA library: \n",
    "\n",
    "In this delivery the student will need to create its won library (module). The library must include the EDA functions we are seeing in class and you create. \n",
    "\n",
    "A python library is a \".py\" file that contains python code.\n",
    "\n",
    "There are some requirements: \n",
    "\n",
    "- EAch functionality must be done in functions.\n",
    "- Each function must be general. It must be useful for the most of cases.\n",
    "- Functions must not have repeated code. Each function must do something function.\n",
    "- The library should import others libraries as numpy, pandas, ...\n",
    "- Try to create a module \".py\" for each type of functionalty. If you are creating visualizing funcions, then the functions will be in a \"my_visualizing_functions_module.py\", for example. If you are creating analysis functions, then they will be in a \"my_analysis_functions_module.py\", for example. \n",
    "- Each function must be well documented. It must explain the functionality and each function param. \n",
    "- The code must be done in a \".py\" file. \n",
    "\n",
    "Delivery instructions:\n",
    "- End date: 12/07/2020 23:59 \n",
    "- Send to: \n",
    "\n",
    "    - clara.piniella@thebridgeschool.es\n",
    "    - gabriel@thebridgeschool.es\n",
    "\n",
    "\n",
    "\n",
    "\n"
   ]
  },
  {
   "cell_type": "code",
   "execution_count": null,
   "metadata": {
    "tags": []
   },
   "outputs": [],
   "source": [
    "import mi_modulo as ym\n"
   ]
  },
  {
   "cell_type": "code",
   "execution_count": null,
   "metadata": {
    "tags": []
   },
   "outputs": [],
   "source": [
    "ym.Random_n_g ()"
   ]
  },
  {
   "cell_type": "code",
   "execution_count": null,
   "metadata": {},
   "outputs": [],
   "source": [
    "ym.tsv_df"
   ]
  },
  {
   "cell_type": "code",
   "execution_count": null,
   "metadata": {},
   "outputs": [],
   "source": [
    "ym.url_reader ()"
   ]
  },
  {
   "cell_type": "code",
   "execution_count": 3,
   "metadata": {},
   "outputs": [
    {
     "output_type": "error",
     "ename": "IndentationError",
     "evalue": "expected an indented block (proyectos_modulo.py, line 45)",
     "traceback": [
      "Traceback \u001b[1;36m(most recent call last)\u001b[0m:\n",
      "  File \u001b[0;32m\"C:\\Users\\yeste\\AppData\\Local\\Programs\\Python\\Python38\\lib\\site-packages\\IPython\\core\\interactiveshell.py\"\u001b[0m, line \u001b[0;32m3343\u001b[0m, in \u001b[0;35mrun_code\u001b[0m\n    exec(code_obj, self.user_global_ns, self.user_ns)\n",
      "\u001b[1;36m  File \u001b[1;32m\"<ipython-input-3-03ac7d2c4217>\"\u001b[1;36m, line \u001b[1;32m1\u001b[1;36m, in \u001b[1;35m<module>\u001b[1;36m\u001b[0m\n\u001b[1;33m    import proyectos_modulo as pym\u001b[0m\n",
      "\u001b[1;36m  File \u001b[1;32m\"c:\\Users\\yeste\\Documents\\datascience-thebridge\\datascience-thebridge\\week4\\day1\\delivery\\proyectos_modulo.py\"\u001b[1;36m, line \u001b[1;32m45\u001b[0m\n\u001b[1;33m    def capitan_calzoncillos():\u001b[0m\n\u001b[1;37m    ^\u001b[0m\n\u001b[1;31mIndentationError\u001b[0m\u001b[1;31m:\u001b[0m expected an indented block\n"
     ]
    }
   ],
   "source": [
    "import proyectos_modulo as pym"
   ]
  },
  {
   "cell_type": "code",
   "execution_count": 4,
   "metadata": {
    "tags": []
   },
   "outputs": [
    {
     "output_type": "error",
     "ename": "NameError",
     "evalue": "name 'pym' is not defined",
     "traceback": [
      "\u001b[1;31m---------------------------------------------------------------------------\u001b[0m",
      "\u001b[1;31mNameError\u001b[0m                                 Traceback (most recent call last)",
      "\u001b[1;32m<ipython-input-4-1c02f7616cd6>\u001b[0m in \u001b[0;36m<module>\u001b[1;34m\u001b[0m\n\u001b[1;32m----> 1\u001b[1;33m \u001b[0mpym\u001b[0m\u001b[1;33m.\u001b[0m\u001b[0mlista_compra\u001b[0m \u001b[1;33m(\u001b[0m\u001b[1;33m)\u001b[0m\u001b[1;33m\u001b[0m\u001b[1;33m\u001b[0m\u001b[0m\n\u001b[0m",
      "\u001b[1;31mNameError\u001b[0m: name 'pym' is not defined"
     ]
    }
   ],
   "source": []
  },
  {
   "cell_type": "code",
   "execution_count": 17,
   "metadata": {},
   "outputs": [
    {
     "output_type": "execute_result",
     "data": {
      "text/plain": "[0, 1, 2, 3, 4, 5, 6, 7, 8, 9, 10, 11, 12, 13, 14, 15]"
     },
     "metadata": {},
     "execution_count": 17
    }
   ],
   "source": [
    "l1 = []\n",
    "for j in range(16):\n",
    "    l1.append(j)\n",
    "l1"
   ]
  },
  {
   "cell_type": "code",
   "execution_count": 1,
   "metadata": {},
   "outputs": [
    {
     "output_type": "error",
     "ename": "SyntaxError",
     "evalue": "invalid syntax (<ipython-input-1-86477f56470b>, line 2)",
     "traceback": [
      "\u001b[1;36m  File \u001b[1;32m\"<ipython-input-1-86477f56470b>\"\u001b[1;36m, line \u001b[1;32m2\u001b[0m\n\u001b[1;33m    Filtra_l1 = lambda x : x+2 if x > 5\u001b[0m\n\u001b[1;37m                                        ^\u001b[0m\n\u001b[1;31mSyntaxError\u001b[0m\u001b[1;31m:\u001b[0m invalid syntax\n"
     ]
    }
   ],
   "source": [
    "def _f_protected (x):\n",
    "    Filtra_l1 = lambda x : x+2 if x > 5 \n",
    "    l1 = []\n",
    "    for j in range(16):\n",
    "        l1.append(j)\n",
    "    f = filter (Filtra_l1, l1 )\n",
    "    return f\n",
    "_f_protected()"
   ]
  },
  {
   "cell_type": "code",
   "execution_count": null,
   "metadata": {},
   "outputs": [],
   "source": [
    "@prepost(url=key_url)\n",
    "_f_protected(x):"
   ]
  }
 ],
 "metadata": {
  "language_info": {
   "name": "python",
   "codemirror_mode": {
    "name": "ipython",
    "version": 3
   }
  },
  "orig_nbformat": 2,
  "file_extension": ".py",
  "mimetype": "text/x-python",
  "name": "python",
  "npconvert_exporter": "python",
  "pygments_lexer": "ipython3",
  "version": 3,
  "kernelspec": {
   "name": "python_defaultSpec_1594800947640",
   "display_name": "Python 3"
  }
 },
 "nbformat": 4,
 "nbformat_minor": 2
}