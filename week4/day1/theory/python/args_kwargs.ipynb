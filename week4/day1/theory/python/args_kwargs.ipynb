{
 "nbformat": 4,
 "nbformat_minor": 2,
 "metadata": {
  "language_info": {
   "name": "python",
   "codemirror_mode": {
    "name": "ipython",
    "version": 3
   },
   "version": "3.7.4-final"
  },
  "orig_nbformat": 2,
  "file_extension": ".py",
  "mimetype": "text/x-python",
  "name": "python",
  "npconvert_exporter": "python",
  "pygments_lexer": "ipython3",
  "version": 3,
  "kernelspec": {
   "name": "python37464bitbasecondadf9388185d494eceb1ea53207dd5bb3f",
   "display_name": "Python 3.7.4 64-bit ('base': conda)"
  }
 },
 "cells": [
  {
   "cell_type": "markdown",
   "metadata": {},
   "source": [
    "Parámetros *arg y *kwargs en Python"
   ]
  },
  {
   "cell_type": "code",
   "execution_count": 5,
   "metadata": {},
   "outputs": [
    {
     "name": "stdout",
     "output_type": "stream",
     "text": "args: (7, 8, 9)\ntype(args): <class 'tuple'>\none: 7\n"
    }
   ],
   "source": [
    "# Ejemplo *args\n",
    "\n",
    "def pepito(*args):\n",
    "    print(\"args:\", args)\n",
    "    print(\"type(args):\", type(args))\n",
    "    one = args[0]\n",
    "    return one\n",
    "\n",
    "one = args_example(7,8,9)\n",
    "print(\"one:\", one)"
   ]
  },
  {
   "cell_type": "code",
   "execution_count": 7,
   "metadata": {},
   "outputs": [
    {
     "name": "stdout",
     "output_type": "stream",
     "text": "kwargs: {'x': 1, 'y': 4, 'z': 7}\ntype(kwargs): <class 'dict'>\none: 7\n"
    }
   ],
   "source": [
    "# Ejemplo **kwargs\n",
    "\n",
    "def kwargs_example(**kwargs):\n",
    "    print(\"kwargs:\", kwargs)\n",
    "    print(\"type(kwargs):\", type(kwargs))\n",
    "    one = kwargs[\"z\"]\n",
    "    return one\n",
    "\n",
    "one = kwargs_example(x=1, y=4, z=7)\n",
    "print(\"one:\", one)"
   ]
  },
  {
   "cell_type": "code",
   "execution_count": null,
   "metadata": {},
   "outputs": [],
   "source": []
  }
 ]
}